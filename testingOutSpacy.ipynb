{
 "cells": [
  {
   "cell_type": "markdown",
   "metadata": {},
   "source": [
    "Import Library"
   ]
  },
  {
   "cell_type": "code",
   "execution_count": 296,
   "metadata": {},
   "outputs": [],
   "source": [
    "import spacy\n",
    "nlp = spacy.load('en_core_web_sm')\n",
    "import json\n",
    "import string\n",
    "import re\n",
    "import numpy as np"
   ]
  },
  {
   "cell_type": "markdown",
   "metadata": {},
   "source": [
    "Import JSON"
   ]
  },
  {
   "cell_type": "code",
   "execution_count": 297,
   "metadata": {},
   "outputs": [],
   "source": [
    "file = open('items copy 3.json')\n",
    "source = json.load(file)"
   ]
  },
  {
   "cell_type": "code",
   "execution_count": 298,
   "metadata": {},
   "outputs": [],
   "source": [
    "doc = nlp(source[0][\"konten\"])"
   ]
  },
  {
   "cell_type": "code",
   "execution_count": 299,
   "metadata": {},
   "outputs": [],
   "source": [
    "from jobTitlesList import job_titles"
   ]
  },
  {
   "cell_type": "code",
   "execution_count": 300,
   "metadata": {},
   "outputs": [
    {
     "name": "stdout",
     "output_type": "stream",
     "text": [
      "['Marketing Specialist', 'Vice President', 'Marketing Manager', 'Marketing Director', 'Graphic Designer', 'Marketing Research Analyst', 'Marketing Communications Manager', 'Marketing Consultant', 'Product Manager', 'Public Relations', 'Social Media Assistant', 'Brand Manager', 'SEO Manager', 'Content Marketing Manager', 'Copywriter', 'Media Buyer', 'Digital Marketing Manager', 'eCommerce Marketing Specialist', 'Brand Strategist', 'Vice President of Marketing', 'Media Relations Coordinator', 'Administrative Assistant', 'Receptionist', 'Office Manager', 'Auditing Clerk', 'Bookkeeper', 'Account Executive', 'Branch Manager', 'Business Manager', 'Quality Control Coordinator', 'Administrative Manager', 'Chief Executive Officer', 'Business Analyst', 'Risk Manager', 'Human Resources', 'Office Assistant', 'Secretary', 'Office Clerk', 'File Clerk', 'Account Collector', 'Administrative Specialist', 'Executive Assistant', 'Program Administrator', 'Program Manager', 'Administrative Analyst', 'Data Entry', 'CEO', 'COO', 'CFO', 'CIO', 'CTO', 'CMO', 'CHRO', 'CDO', 'CPO', 'CCO', 'Chief Executive Officer', 'Chief Financial Officer', 'Chief Operating Officer', 'Chief Information Officer', 'Chief Technology Officer', 'Chief Marketing Officer', 'Chief Human Resources Officer', 'Chief Data Officer', 'Chief Product Officer', 'Chief Customer Officer', 'Team Leader', 'Manager', 'Assistant Manager', 'Executive', 'Director', 'Coordinator', 'Administrator', 'Controller', 'Officer', 'Organizer', 'Supervisor', 'Superintendent', 'Head', 'Overseer', 'Chief', 'Foreman', 'Controller', 'Principal', 'President', 'Lead', 'Computer Scientist', 'IT Professional', 'UX Designer & UI Developer', 'SQL Developer', 'Web Designer', 'Web Developer', 'Help Desk Worker/Desktop Support', 'Software Engineer', 'Data Entry', 'DevOps Engineer', 'Computer Programmer', 'Network Administrator', 'Information Security Analyst', 'Artificial Intelligence Engineer', 'Cloud Architect', 'IT Manager', 'Technical Specialist', 'Application Developer', 'Chief Technology Officer (CTO)', 'Chief Information Officer (CIO)', 'Sales Associate', 'Sales Representative', 'Sales Manager', 'Retail Worker', 'Store Manager', 'Sales Representative', 'Sales Manager', 'Real Estate Broker', 'Sales Associate', 'Cashier', 'Store Manager', 'Account Executive', 'Account Manager', 'Area Sales Manager', 'Direct Salesperson', 'Director of Inside Sales', 'Outside Sales Manager', 'Sales Analyst', 'Market Development Manager', 'B2B Sales Specialist', 'Sales Engineer', 'Merchandising Associate', 'Construction Worker', 'Taper', 'Plumber', 'Heavy Equipment Operator', 'Vehicle or Equipment Cleaner', 'Carpenter', 'Electrician', 'Painter', 'Welder', 'Handyman', 'Boilermaker', 'Crane Operator', 'Building Inspector', 'Pipefitter', 'Sheet Metal Worker', 'Iron Worker', 'Mason', 'Roofer', 'Solar Photovoltaic Installer', 'Well Driller', 'CEO', 'Proprietor', 'Principal', 'Owner', 'President', 'Founder', 'Administrator', 'Director', 'Managing Partner', 'Managing Member', 'Board of Directors', 'C-Level or C-Suite.', 'Shareholders', 'Managers', 'Supervisors', 'Front-Line Employees', 'Quality Control', 'Human Resources', 'Accounting Staff', 'Marketing Staff', 'Purchasing Staff', 'Shipping and Receiving Staff', 'Office Manager', 'Receptionist', 'Virtual Assistant', 'Customer Service', 'Customer Support', 'Concierge', 'Help Desk', 'Customer Service Manager', 'Technical Support Specialist', 'Account Representative', 'Client Service Specialist', 'Customer Care Associate', 'Operations Manager', 'Operations Assistant', 'Operations Coordinator', 'Operations Analyst', 'Operations Director', 'Vice President of Operations', 'Operations Professional', 'Scrum Master', 'Continuous Improvement Lead', 'Continuous Improvement Consultant', 'Credit Authorizer', 'Benefits Manager', 'Credit Counselor', 'Accountant', 'Bookkeeper', 'Accounting Analyst', 'Accounting Director', 'Accounts Payable/Receivable Clerk', 'Auditor', 'Budget Analyst', 'Controller', 'Financial Analyst', 'Finance Manager', 'Economist', 'Payroll Manager', 'Payroll Clerk', 'Financial Planner', 'Financial Services Representative', 'Finance Director', 'Commercial Loan Officer', 'Engineer', 'Mechanical Engineer', 'Civil Engineer', 'Electrical Engineer', 'Assistant Engineer', 'Chemical Engineer', 'Chief Engineer', 'Drafter', 'Engineering Technician', 'Geological Engineer', 'Biological Engineer', 'Maintenance Engineer', 'Mining Engineer', 'Nuclear Engineer', 'Petroleum Engineer', 'Plant Engineer', 'Production Engineer', 'Quality Engineer', 'Safety Engineer', 'Sales Engineer', 'Chief People Officer', 'VP of Miscellaneous Stuff', 'Chief Robot Whisperer', 'Director of First Impressions', 'Culture Operations Manager', 'Director of Ethical Hacking', 'Software Ninjaneer', 'Director of Bean Counting', 'Digital Overlord', 'Director of Storytelling', 'Researcher', 'Research Assistant', 'Data Analyst', 'Business Analyst', 'Financial Analyst', 'Biostatistician', 'Title Researcher', 'Market Researcher', 'Title Analyst', 'Medical Researcher', 'Mentor', 'Tutor/Online Tutor', 'Teacher', 'Teaching Assistant', 'Substitute Teacher', 'Preschool Teacher', 'Test Scorer', 'Online ESL Instructor', 'Professor', 'Assistant Professor', 'Graphic Designer', 'Artist', 'Interior Designer', 'Video Editor', 'Video or Film Producer', 'Playwright', 'Musician', 'Novelist/Writer', 'Computer Animator', 'Photographer', 'Camera Operator', 'Sound Engineer', 'Motion Picture Director', 'Actor', 'Music Producer', 'Director of Photography', 'Nurse', 'Travel Nurse', 'Nurse Practitioner', 'Doctor', 'Caregiver', 'CNA', 'Physical Therapist', 'Pharmacist', 'Pharmacy Assistant', 'Medical Administrator', 'Medical Laboratory Tech', 'Physical Therapy Assistant', 'Massage Therapy', 'Dental Hygienist', 'Orderly', 'Personal Trainer', 'Massage Therapy', 'Medical Laboratory Tech', 'Phlebotomist', 'Medical Transcriptionist', 'Telework Nurse/Doctor', 'Reiki Practitioner', 'Housekeeper', 'Flight Attendant', 'Travel Agent', 'Hotel Front Door Greeter', 'Bellhop', 'Cruise Director', 'Entertainment Specialist', 'Hotel Manager', 'Front Desk Associate', 'Front Desk Manager', 'Concierge', 'Group Sales', 'Event Planner', 'Porter', 'Spa Manager', 'Wedding Coordinator', 'Cruise Ship Attendant', 'Casino Host', 'Hotel Receptionist', 'Reservationist', 'Events Manager', 'Meeting Planner', 'Lodging Manager', 'Director of Maintenance', 'Valet', 'Waiter/Waitress', 'Server', 'Chef', 'Fast Food Worker', 'Barista', 'Line Cook', 'Cafeteria Worker', 'Restaurant Manager', 'Wait Staff Manager', 'Bus Person', 'Restaurant Chain Executive', 'Political Scientist', 'Chemist', 'Conservation Scientist', 'Sociologist', 'Biologist', 'Geologist', 'Physicist', 'Astronomer', 'Atmospheric Scientist', 'Molecular Scientist', 'Call Center Representative', 'Customer Service', 'Telemarketer', 'Telephone Operator', 'Phone Survey Conductor', 'Dispatcher for Trucks or Taxis', 'Customer Support Representative', 'Over the Phone Interpreter', 'Phone Sales Specialist', 'Mortgage Loan Processor', 'Counselor', 'Mental Health Counselor', 'Addiction Counselor', 'School Counselor', 'Speech Pathologist', 'Guidance Counselor', 'Social Worker', 'Therapist', 'Life Coach', 'Couples Counselor', 'Beautician', 'Hair Stylist', 'Nail Technician', 'Cosmetologist', 'Salon Manager', 'Makeup Artist', 'Esthetician', 'Skin Care Specialist', 'Manicurist', 'Barber', 'Journalist', 'Copy Editor', 'Editor/Proofreader', 'Content Creator', 'Speechwriter', 'Communications Director', 'Screenwriter', 'Technical Writer', 'Columnist', 'Public Relations Specialist', 'Proposal Writer', 'Content Strategist', 'Grant Writer', 'Video Game Writer', 'Translator', 'Film Critic', 'Copywriter', 'Travel Writer', 'Social Media Specialist', 'Ghostwriter', 'Warehouse Worker', 'Painter', 'Truck Driver', 'Heavy Equipment Operator', 'Welding', 'Physical Therapy Assistant', 'Housekeeper', 'Landscaping Worker', 'Landscaping Assistant', 'Mover', 'Animal Breeder', 'Veterinary Assistant', 'Farm Worker', 'Animal Shelter Worker', 'Dog Walker / Pet Sitter', 'Zoologist', 'Animal Trainer', 'Service Dog Trainer', 'Animal Shelter Manager', 'Animal Control Officer', 'Delivery Driver', 'School Bus Driver', 'Truck Driver', 'Tow Truck Operator', 'UPS Driver', 'Mail Carrier', 'Recyclables Collector', 'Courier', 'Bus Driver', 'Cab Driver', 'Animal Shelter Board Member', 'Office Volunteer', 'Animal Shelter Volunteer', 'Hospital Volunteer', 'Youth Volunteer', 'Food Kitchen Worker', 'Homeless Shelter Worker', 'Conservation Volunteer', 'Meals on Wheels Driver', 'Habitat for Humanity Builder', 'Emergency Relief Worker', 'Red Cross Volunteer', 'Community Food Project Worker', 'Women’s Shelter Jobs', 'Suicide Hotline Volunteer', 'School Volunteer', 'Community Volunteer Jobs', 'Sports Volunteer', 'Church Volunteer', 'Archivist', 'Actuary', 'Architect', 'Personal Assistant', 'Entrepreneur', 'Security Guard', 'Mechanic', 'Recruiter', 'Mathematician', 'Locksmith', 'Management Consultant', 'Shelf Stocker', 'Caretaker or House Sitter', 'Library Assistant', 'Translator', 'HVAC Technician', 'Attorney', 'Paralegal', 'Executive Assistant', 'Personal Assistant', 'Bank Teller', 'Parking Attendant', 'Machinery Operator', 'Manufacturing Assembler', 'Funeral Attendant', 'Assistant Golf Professional', 'Yoga Instructor']\n"
     ]
    }
   ],
   "source": [
    "print(job_titles)"
   ]
  },
  {
   "cell_type": "code",
   "execution_count": 301,
   "metadata": {},
   "outputs": [
    {
     "name": "stdout",
     "output_type": "stream",
     "text": [
      "[['Text', 'Lemmatization', 'POS Tag', 'Tag', 'Dependency', 'Shape', 'Is Alpha', 'Is Stop']]\n",
      "TEXT LEMMATIZATION POS-TAG TAG DEPNDNCY SHAPE IS_ALPHA IS_STOP\n",
      "Lady Lady PROPN NNP nsubj Xxxx True False\n",
      "Lake Lake PROPN NNP compound Xxxx True False\n",
      "Childrens Childrens PROPN NNP compound Xxxxx True False\n",
      "Health Health PROPN NNP pobj Xxxxx True False\n",
      "launched launch VERB VBN ROOT xxxx True False\n",
      "new new ADJ JJ amod xxx True False\n",
      "digital digital ADJ JJ amod xxxx True False\n",
      "symptom symptom NOUN NN compound xxxx True False\n",
      "checker checker NOUN NN dobj xxxx True False\n",
      "pediatric pediatric ADJ JJ amod xxxx True False\n",
      "patients patient NOUN NNS pobj xxxx True False\n",
      "ages age NOUN NNS npadvmod xxxx True False\n",
      "offering offer VERB VBG advcl xxxx True False\n",
      "ways way NOUN NNS dobj xxxx True False\n",
      "access access VERB VB relcl xxxx True False\n",
      "virtual virtual ADJ JJ acomp xxxx True False\n",
      "seamless seamless ADJ JJ amod xxxx True False\n",
      "guidance guidance NOUN NN dobj xxxx True False\n",
      "time time NOUN NN npadvmod xxxx True False\n",
      "day day NOUN NN appos xxx True False\n",
      "night night NOUN NN conj xxxx True False\n",
      "Pediatric Pediatric PROPN NNP compound Xxxxx True False\n",
      "Symptom Symptom PROPN NNP compound Xxxxx True False\n",
      "Checker Checker PROPN NNP nsubj Xxxxx True False\n",
      "online online ADJ JJ amod xxxx True False\n",
      "pediatric pediatric ADJ JJ amod xxxx True False\n",
      "symptom symptom NOUN NN compound xxxx True False\n",
      "checker checker NOUN NN compound xxxx True False\n",
      "tool tool NOUN NN attr xxxx True False\n",
      "created create VERB VBD acl xxxx True False\n",
      "specifically specifically ADV RB advmod xxxx True False\n",
      "region region NOUN NN pobj xxxx True False\n",
      "provides provide VERB VBZ conj xxxx True False\n",
      "parents parent NOUN NNS dobj xxxx True False\n",
      "peace peace NOUN NN pobj xxxx True False\n",
      "mind mind NOUN NN pobj xxxx True False\n",
      "palm palm NOUN NN pobj xxxx True False\n",
      "hands hand NOUN NNS pobj xxxx True False\n",
      "answering answer VERB VBG pcomp xxxx True False\n",
      "short short ADJ JJ amod xxxx True False\n",
      "questions question NOUN NNS dobj xxxx True False\n",
      "new new ADJ JJ amod xxx True False\n",
      "online online ADJ JJ amod xxxx True False\n",
      "tool tool NOUN NN nsubj xxxx True False\n",
      "provide provide VERB VB ROOT xxxx True False\n",
      "advice advice NOUN NN dobj xxxx True False\n",
      "steps step NOUN NNS pobj xxxx True False\n",
      "seeking seek VERB VBG pcomp xxxx True False\n",
      "treatment treatment NOUN NN dobj xxxx True False\n",
      "care care NOUN NN conj xxxx True False\n",
      "sick sick ADJ JJ amod xxxx True False\n",
      "child child NOUN NN pobj xxxx True False\n",
      "Pediatric Pediatric PROPN NNP compound Xxxxx True False\n",
      "Symptom Symptom PROPN NNP compound Xxxxx True False\n",
      "Checker Checker PROPN NNP nsubjpass Xxxxx True False\n",
      "designed design VERB VBN ccomp xxxx True False\n",
      "help help VERB VB xcomp xxxx True False\n",
      "parents parent NOUN NNS nsubj xxxx True False\n",
      "decide decide VERB VB ccomp xxxx True False\n",
      "best good ADJ JJS amod xxxx True False\n",
      "course course NOUN NN dobj xxxx True False\n",
      "care care NOUN NN pobj xxxx True False\n",
      "child child NOUN NN pobj xxxx True False\n",
      "matter matter ADV RB advmod xxxx True False\n",
      "time time NOUN NN attr xxxx True False\n",
      "says say VERB VBZ ROOT xxxx True False\n",
      "Brett Brett PROPN NNP compound Xxxxx True False\n",
      "Hutchinson Hutchinson PROPN NNP compound Xxxxx True False\n",
      "MD MD PROPN NNP compound XX True False\n",
      "pediatrician pediatrician NOUN NN nsubj xxxx True False\n",
      "Lady Lady PROPN NNP pobj Xxxx True False\n",
      "Lake Lake PROPN NNP compound Xxxx True False\n",
      "Childrens Childrens PROPN NNP compound Xxxxx True False\n",
      "Health Health PROPN NNP pobj Xxxxx True False\n",
      "goal goal NOUN NN nsubj xxxx True False\n",
      "relieve relieve VERB VB xcomp xxxx True False\n",
      "stress stress NOUN NN pobj xxxx True False\n",
      "parenting parenting NOUN NN pobj xxxx True False\n",
      "making make VERB VBG pcomp xxxx True False\n",
      "care care NOUN NN nsubj xxxx True False\n",
      "accessible accessible ADJ JJ ccomp xxxx True False\n",
      "easy easy ADJ JJ conj xxxx True False\n",
      "navigate navigate VERB VB xcomp xxxx True False\n",
      "symptom symptom NOUN NN compound xxxx True False\n",
      "checker checker NOUN NN nsubjpass xxxx True False\n",
      "designed design VERB VBN ROOT xxxx True False\n",
      "help help VERB VB xcomp xxxx True False\n",
      "parents parent NOUN NNS nsubj xxxx True False\n",
      "guardians guardian NOUN NNS conj xxxx True False\n",
      "decide decide VERB VBP ccomp xxxx True False\n",
      "appropriate appropriate ADJ JJ amod xxxx True False\n",
      "care care NOUN NN compound xxxx True False\n",
      "setting setting NOUN NN pobj xxxx True False\n",
      "based base VERB VBN acl xxxx True False\n",
      "childs child NOUN NNS compound xxxx True False\n",
      "symptoms symptom NOUN NNS pobj xxxx True False\n",
      "special special ADJ JJ amod xxxx True False\n",
      "circumstances circumstance NOUN NNS conj xxxx True False\n",
      "tool tool NOUN NN nsubj xxxx True False\n",
      "free free ADJ JJ acomp xxxx True False\n",
      "available available ADJ JJ conj xxxx True False\n",
      "online online ADV RB advmod xxxx True False\n",
      "answering answer VERB VBG pcomp xxxx True False\n",
      "quick quick ADJ JJ amod xxxx True False\n",
      "confidential confidential ADJ JJ amod xxxx True False\n",
      "questions question NOUN NNS dobj xxxx True False\n",
      "parents parent NOUN NNS nsubj xxxx True False\n",
      "able able ADJ JJ acomp xxxx True False\n",
      "use use VERB VB xcomp xxx True False\n",
      "new new ADJ JJ amod xxx True False\n",
      "resource resource NOUN NN dobj xxxx True False\n",
      "determine determine VERB VB xcomp xxxx True False\n",
      "ER ER PROPN NNP pobj XX True False\n",
      "contact contact VERB VB dep xxxx True False\n",
      "pediatrician pediatrician NOUN NN dobj xxxx True False\n",
      "immediately immediately ADV RB advmod xxxx True False\n",
      "appointment appointment NOUN NN dobj xxxx True False\n",
      "provider provider NOUN NN pobj xxxx True False\n",
      "seek seek VERB VB conj xxxx True False\n",
      "type type NOUN NN dobj xxxx True False\n",
      "care care NOUN NN pobj xxxx True False\n",
      "visit visit VERB VB ROOT xxxx True False\n",
      "access access VERB VB advcl xxxx True False\n",
      "digital digital ADJ JJ amod xxxx True False\n",
      "symptom symptom NOUN NN compound xxxx True False\n",
      "checker checker NOUN NN dobj xxxx True False\n",
      "Pediatric Pediatric PROPN NNP compound Xxxxx True False\n",
      "Symptom Symptom PROPN NNP compound Xxxxx True False\n",
      "Tracker Tracker PROPN NNP nsubj Xxxxx True False\n",
      "latest late ADJ JJS attr xxxx True False\n",
      "long long ADJ JJ amod xxxx True False\n",
      "line line NOUN NN pobj xxxx True False\n",
      "digital digital ADJ JJ amod xxxx True False\n",
      "patient patient ADJ JJ compound xxxx True False\n",
      "tools tool NOUN NNS pobj xxxx True False\n",
      "including include VERB VBG prep xxxx True False\n",
      "video video NOUN NN compound xxxx True False\n",
      "visits visit NOUN NNS pobj xxxx True False\n",
      "online online ADJ JJ amod xxxx True False\n",
      "scheduling scheduling NOUN NN appos xxxx True False\n",
      "MyChart MyChart PROPN NNP pobj XxXxxxx True False\n",
      "OurHealth OurHealth PROPN NNP compound XxxXxxxx True False\n",
      "app app NOUN NN conj xxx True False\n"
     ]
    }
   ],
   "source": [
    "bersih = []\n",
    "\n",
    "header = [\"Text\", \"Lemmatization\", \"POS Tag\", \"Tag\", \"Dependency\", \"Shape\", \"Is Alpha\", \"Is Stop\"]\n",
    "table = [header]\n",
    "\n",
    "print(table)\n",
    "\n",
    "print(\"TEXT LEMMATIZATION POS-TAG TAG DEPNDNCY SHAPE IS_ALPHA IS_STOP\")\n",
    "for token in doc:\n",
    "    if token.is_stop == False and token.is_alpha == True:\n",
    "        if token.pos_ != \"PUNCT\":\n",
    "            print(token.text, token.lemma_, token.pos_, token.tag_, token.dep_,\n",
    "                token.shape_, token.is_alpha, token.is_stop)\n",
    "            record = [token.text, token.lemma_, token.pos_, token.tag_, token.dep_,\n",
    "                token.shape_, token.is_alpha, token.is_stop]\n",
    "            bersih.append(token.text)\n",
    "            table.append(record)"
   ]
  },
  {
   "cell_type": "markdown",
   "metadata": {},
   "source": [
    "## Choosing only lemmatized word"
   ]
  },
  {
   "cell_type": "code",
   "execution_count": 302,
   "metadata": {},
   "outputs": [
    {
     "data": {
      "text/plain": [
       "'our Lady of the Lake Childrens Health have launch a new digital symptom checker for pediatric patient age 0 - 17 , offer more way to access virtual , seamless guidance any time , day or night . the Pediatric Symptom Checker be the first online pediatric symptom checker tool create specifically for the region and provide parent with peace of mind in the palm of their hand . after answer a few short question , the new online tool will provide advice on the next step for seek treatment or care for a sick child . the Pediatric Symptom Checker be design to help parent decide the good course of care for their child no matter where they be or what time it be say Brett Hutchinson MD pediatrician at our Lady of the Lake Childrens Health . our goal be to relieve some of the stress of parenting by make care accessible and easy to navigate . the symptom checker be design to help parent and guardian decide on the appropriate care setting base on their child symptom and special circumstance . the tool be free for   everyone and available online . by answer a few quick , confidential question , parent will be able to use this new resource to determine if they should go to the ER , contact a pediatrician immediately , make an appointment with a provider or seek another type of care . please visit ololchildrens.org/symptom-checker to access the digital symptom checker . the Pediatric Symptom Tracker be the late in a long line of digital patient tool include video visit , online scheduling through MyChart and the OurHealth app .'"
      ]
     },
     "execution_count": 302,
     "metadata": {},
     "output_type": "execute_result"
    }
   ],
   "source": [
    "lemmatized_words = \" \".join([token.lemma_ for token in doc])\n",
    "\n",
    "lemmatized_words\n",
    "\n"
   ]
  },
  {
   "cell_type": "code",
   "execution_count": 303,
   "metadata": {},
   "outputs": [
    {
     "name": "stdout",
     "output_type": "stream",
     "text": [
      "Brett Hutchinson MD\n"
     ]
    }
   ],
   "source": [
    "testing_doc_with_lemmatized = nlp(lemmatized_words)\n",
    "\n",
    "for ent in testing_doc_with_lemmatized.ents:\n",
    "    if ent.label_ == 'PERSON':\n",
    "        print(ent.text)"
   ]
  },
  {
   "cell_type": "code",
   "execution_count": 304,
   "metadata": {},
   "outputs": [
    {
     "data": {
      "text/plain": [
       "[['Text',\n",
       "  'Lemmatization',\n",
       "  'POS Tag',\n",
       "  'Tag',\n",
       "  'Dependency',\n",
       "  'Shape',\n",
       "  'Is Alpha',\n",
       "  'Is Stop'],\n",
       " ['Lady', 'Lady', 'PROPN', 'NNP', 'nsubj', 'Xxxx', True, False],\n",
       " ['Lake', 'Lake', 'PROPN', 'NNP', 'compound', 'Xxxx', True, False],\n",
       " ['Childrens', 'Childrens', 'PROPN', 'NNP', 'compound', 'Xxxxx', True, False],\n",
       " ['Health', 'Health', 'PROPN', 'NNP', 'pobj', 'Xxxxx', True, False],\n",
       " ['launched', 'launch', 'VERB', 'VBN', 'ROOT', 'xxxx', True, False],\n",
       " ['new', 'new', 'ADJ', 'JJ', 'amod', 'xxx', True, False],\n",
       " ['digital', 'digital', 'ADJ', 'JJ', 'amod', 'xxxx', True, False],\n",
       " ['symptom', 'symptom', 'NOUN', 'NN', 'compound', 'xxxx', True, False],\n",
       " ['checker', 'checker', 'NOUN', 'NN', 'dobj', 'xxxx', True, False],\n",
       " ['pediatric', 'pediatric', 'ADJ', 'JJ', 'amod', 'xxxx', True, False],\n",
       " ['patients', 'patient', 'NOUN', 'NNS', 'pobj', 'xxxx', True, False],\n",
       " ['ages', 'age', 'NOUN', 'NNS', 'npadvmod', 'xxxx', True, False],\n",
       " ['offering', 'offer', 'VERB', 'VBG', 'advcl', 'xxxx', True, False],\n",
       " ['ways', 'way', 'NOUN', 'NNS', 'dobj', 'xxxx', True, False],\n",
       " ['access', 'access', 'VERB', 'VB', 'relcl', 'xxxx', True, False],\n",
       " ['virtual', 'virtual', 'ADJ', 'JJ', 'acomp', 'xxxx', True, False],\n",
       " ['seamless', 'seamless', 'ADJ', 'JJ', 'amod', 'xxxx', True, False],\n",
       " ['guidance', 'guidance', 'NOUN', 'NN', 'dobj', 'xxxx', True, False],\n",
       " ['time', 'time', 'NOUN', 'NN', 'npadvmod', 'xxxx', True, False],\n",
       " ['day', 'day', 'NOUN', 'NN', 'appos', 'xxx', True, False],\n",
       " ['night', 'night', 'NOUN', 'NN', 'conj', 'xxxx', True, False],\n",
       " ['Pediatric', 'Pediatric', 'PROPN', 'NNP', 'compound', 'Xxxxx', True, False],\n",
       " ['Symptom', 'Symptom', 'PROPN', 'NNP', 'compound', 'Xxxxx', True, False],\n",
       " ['Checker', 'Checker', 'PROPN', 'NNP', 'nsubj', 'Xxxxx', True, False],\n",
       " ['online', 'online', 'ADJ', 'JJ', 'amod', 'xxxx', True, False],\n",
       " ['pediatric', 'pediatric', 'ADJ', 'JJ', 'amod', 'xxxx', True, False],\n",
       " ['symptom', 'symptom', 'NOUN', 'NN', 'compound', 'xxxx', True, False],\n",
       " ['checker', 'checker', 'NOUN', 'NN', 'compound', 'xxxx', True, False],\n",
       " ['tool', 'tool', 'NOUN', 'NN', 'attr', 'xxxx', True, False],\n",
       " ['created', 'create', 'VERB', 'VBD', 'acl', 'xxxx', True, False],\n",
       " ['specifically', 'specifically', 'ADV', 'RB', 'advmod', 'xxxx', True, False],\n",
       " ['region', 'region', 'NOUN', 'NN', 'pobj', 'xxxx', True, False],\n",
       " ['provides', 'provide', 'VERB', 'VBZ', 'conj', 'xxxx', True, False],\n",
       " ['parents', 'parent', 'NOUN', 'NNS', 'dobj', 'xxxx', True, False],\n",
       " ['peace', 'peace', 'NOUN', 'NN', 'pobj', 'xxxx', True, False],\n",
       " ['mind', 'mind', 'NOUN', 'NN', 'pobj', 'xxxx', True, False],\n",
       " ['palm', 'palm', 'NOUN', 'NN', 'pobj', 'xxxx', True, False],\n",
       " ['hands', 'hand', 'NOUN', 'NNS', 'pobj', 'xxxx', True, False],\n",
       " ['answering', 'answer', 'VERB', 'VBG', 'pcomp', 'xxxx', True, False],\n",
       " ['short', 'short', 'ADJ', 'JJ', 'amod', 'xxxx', True, False],\n",
       " ['questions', 'question', 'NOUN', 'NNS', 'dobj', 'xxxx', True, False],\n",
       " ['new', 'new', 'ADJ', 'JJ', 'amod', 'xxx', True, False],\n",
       " ['online', 'online', 'ADJ', 'JJ', 'amod', 'xxxx', True, False],\n",
       " ['tool', 'tool', 'NOUN', 'NN', 'nsubj', 'xxxx', True, False],\n",
       " ['provide', 'provide', 'VERB', 'VB', 'ROOT', 'xxxx', True, False],\n",
       " ['advice', 'advice', 'NOUN', 'NN', 'dobj', 'xxxx', True, False],\n",
       " ['steps', 'step', 'NOUN', 'NNS', 'pobj', 'xxxx', True, False],\n",
       " ['seeking', 'seek', 'VERB', 'VBG', 'pcomp', 'xxxx', True, False],\n",
       " ['treatment', 'treatment', 'NOUN', 'NN', 'dobj', 'xxxx', True, False],\n",
       " ['care', 'care', 'NOUN', 'NN', 'conj', 'xxxx', True, False],\n",
       " ['sick', 'sick', 'ADJ', 'JJ', 'amod', 'xxxx', True, False],\n",
       " ['child', 'child', 'NOUN', 'NN', 'pobj', 'xxxx', True, False],\n",
       " ['Pediatric', 'Pediatric', 'PROPN', 'NNP', 'compound', 'Xxxxx', True, False],\n",
       " ['Symptom', 'Symptom', 'PROPN', 'NNP', 'compound', 'Xxxxx', True, False],\n",
       " ['Checker', 'Checker', 'PROPN', 'NNP', 'nsubjpass', 'Xxxxx', True, False],\n",
       " ['designed', 'design', 'VERB', 'VBN', 'ccomp', 'xxxx', True, False],\n",
       " ['help', 'help', 'VERB', 'VB', 'xcomp', 'xxxx', True, False],\n",
       " ['parents', 'parent', 'NOUN', 'NNS', 'nsubj', 'xxxx', True, False],\n",
       " ['decide', 'decide', 'VERB', 'VB', 'ccomp', 'xxxx', True, False],\n",
       " ['best', 'good', 'ADJ', 'JJS', 'amod', 'xxxx', True, False],\n",
       " ['course', 'course', 'NOUN', 'NN', 'dobj', 'xxxx', True, False],\n",
       " ['care', 'care', 'NOUN', 'NN', 'pobj', 'xxxx', True, False],\n",
       " ['child', 'child', 'NOUN', 'NN', 'pobj', 'xxxx', True, False],\n",
       " ['matter', 'matter', 'ADV', 'RB', 'advmod', 'xxxx', True, False],\n",
       " ['time', 'time', 'NOUN', 'NN', 'attr', 'xxxx', True, False],\n",
       " ['says', 'say', 'VERB', 'VBZ', 'ROOT', 'xxxx', True, False],\n",
       " ['Brett', 'Brett', 'PROPN', 'NNP', 'compound', 'Xxxxx', True, False],\n",
       " ['Hutchinson',\n",
       "  'Hutchinson',\n",
       "  'PROPN',\n",
       "  'NNP',\n",
       "  'compound',\n",
       "  'Xxxxx',\n",
       "  True,\n",
       "  False],\n",
       " ['MD', 'MD', 'PROPN', 'NNP', 'compound', 'XX', True, False],\n",
       " ['pediatrician', 'pediatrician', 'NOUN', 'NN', 'nsubj', 'xxxx', True, False],\n",
       " ['Lady', 'Lady', 'PROPN', 'NNP', 'pobj', 'Xxxx', True, False],\n",
       " ['Lake', 'Lake', 'PROPN', 'NNP', 'compound', 'Xxxx', True, False],\n",
       " ['Childrens', 'Childrens', 'PROPN', 'NNP', 'compound', 'Xxxxx', True, False],\n",
       " ['Health', 'Health', 'PROPN', 'NNP', 'pobj', 'Xxxxx', True, False],\n",
       " ['goal', 'goal', 'NOUN', 'NN', 'nsubj', 'xxxx', True, False],\n",
       " ['relieve', 'relieve', 'VERB', 'VB', 'xcomp', 'xxxx', True, False],\n",
       " ['stress', 'stress', 'NOUN', 'NN', 'pobj', 'xxxx', True, False],\n",
       " ['parenting', 'parenting', 'NOUN', 'NN', 'pobj', 'xxxx', True, False],\n",
       " ['making', 'make', 'VERB', 'VBG', 'pcomp', 'xxxx', True, False],\n",
       " ['care', 'care', 'NOUN', 'NN', 'nsubj', 'xxxx', True, False],\n",
       " ['accessible', 'accessible', 'ADJ', 'JJ', 'ccomp', 'xxxx', True, False],\n",
       " ['easy', 'easy', 'ADJ', 'JJ', 'conj', 'xxxx', True, False],\n",
       " ['navigate', 'navigate', 'VERB', 'VB', 'xcomp', 'xxxx', True, False],\n",
       " ['symptom', 'symptom', 'NOUN', 'NN', 'compound', 'xxxx', True, False],\n",
       " ['checker', 'checker', 'NOUN', 'NN', 'nsubjpass', 'xxxx', True, False],\n",
       " ['designed', 'design', 'VERB', 'VBN', 'ROOT', 'xxxx', True, False],\n",
       " ['help', 'help', 'VERB', 'VB', 'xcomp', 'xxxx', True, False],\n",
       " ['parents', 'parent', 'NOUN', 'NNS', 'nsubj', 'xxxx', True, False],\n",
       " ['guardians', 'guardian', 'NOUN', 'NNS', 'conj', 'xxxx', True, False],\n",
       " ['decide', 'decide', 'VERB', 'VBP', 'ccomp', 'xxxx', True, False],\n",
       " ['appropriate', 'appropriate', 'ADJ', 'JJ', 'amod', 'xxxx', True, False],\n",
       " ['care', 'care', 'NOUN', 'NN', 'compound', 'xxxx', True, False],\n",
       " ['setting', 'setting', 'NOUN', 'NN', 'pobj', 'xxxx', True, False],\n",
       " ['based', 'base', 'VERB', 'VBN', 'acl', 'xxxx', True, False],\n",
       " ['childs', 'child', 'NOUN', 'NNS', 'compound', 'xxxx', True, False],\n",
       " ['symptoms', 'symptom', 'NOUN', 'NNS', 'pobj', 'xxxx', True, False],\n",
       " ['special', 'special', 'ADJ', 'JJ', 'amod', 'xxxx', True, False],\n",
       " ['circumstances', 'circumstance', 'NOUN', 'NNS', 'conj', 'xxxx', True, False],\n",
       " ['tool', 'tool', 'NOUN', 'NN', 'nsubj', 'xxxx', True, False],\n",
       " ['free', 'free', 'ADJ', 'JJ', 'acomp', 'xxxx', True, False],\n",
       " ['available', 'available', 'ADJ', 'JJ', 'conj', 'xxxx', True, False],\n",
       " ['online', 'online', 'ADV', 'RB', 'advmod', 'xxxx', True, False],\n",
       " ['answering', 'answer', 'VERB', 'VBG', 'pcomp', 'xxxx', True, False],\n",
       " ['quick', 'quick', 'ADJ', 'JJ', 'amod', 'xxxx', True, False],\n",
       " ['confidential', 'confidential', 'ADJ', 'JJ', 'amod', 'xxxx', True, False],\n",
       " ['questions', 'question', 'NOUN', 'NNS', 'dobj', 'xxxx', True, False],\n",
       " ['parents', 'parent', 'NOUN', 'NNS', 'nsubj', 'xxxx', True, False],\n",
       " ['able', 'able', 'ADJ', 'JJ', 'acomp', 'xxxx', True, False],\n",
       " ['use', 'use', 'VERB', 'VB', 'xcomp', 'xxx', True, False],\n",
       " ['new', 'new', 'ADJ', 'JJ', 'amod', 'xxx', True, False],\n",
       " ['resource', 'resource', 'NOUN', 'NN', 'dobj', 'xxxx', True, False],\n",
       " ['determine', 'determine', 'VERB', 'VB', 'xcomp', 'xxxx', True, False],\n",
       " ['ER', 'ER', 'PROPN', 'NNP', 'pobj', 'XX', True, False],\n",
       " ['contact', 'contact', 'VERB', 'VB', 'dep', 'xxxx', True, False],\n",
       " ['pediatrician', 'pediatrician', 'NOUN', 'NN', 'dobj', 'xxxx', True, False],\n",
       " ['immediately', 'immediately', 'ADV', 'RB', 'advmod', 'xxxx', True, False],\n",
       " ['appointment', 'appointment', 'NOUN', 'NN', 'dobj', 'xxxx', True, False],\n",
       " ['provider', 'provider', 'NOUN', 'NN', 'pobj', 'xxxx', True, False],\n",
       " ['seek', 'seek', 'VERB', 'VB', 'conj', 'xxxx', True, False],\n",
       " ['type', 'type', 'NOUN', 'NN', 'dobj', 'xxxx', True, False],\n",
       " ['care', 'care', 'NOUN', 'NN', 'pobj', 'xxxx', True, False],\n",
       " ['visit', 'visit', 'VERB', 'VB', 'ROOT', 'xxxx', True, False],\n",
       " ['access', 'access', 'VERB', 'VB', 'advcl', 'xxxx', True, False],\n",
       " ['digital', 'digital', 'ADJ', 'JJ', 'amod', 'xxxx', True, False],\n",
       " ['symptom', 'symptom', 'NOUN', 'NN', 'compound', 'xxxx', True, False],\n",
       " ['checker', 'checker', 'NOUN', 'NN', 'dobj', 'xxxx', True, False],\n",
       " ['Pediatric', 'Pediatric', 'PROPN', 'NNP', 'compound', 'Xxxxx', True, False],\n",
       " ['Symptom', 'Symptom', 'PROPN', 'NNP', 'compound', 'Xxxxx', True, False],\n",
       " ['Tracker', 'Tracker', 'PROPN', 'NNP', 'nsubj', 'Xxxxx', True, False],\n",
       " ['latest', 'late', 'ADJ', 'JJS', 'attr', 'xxxx', True, False],\n",
       " ['long', 'long', 'ADJ', 'JJ', 'amod', 'xxxx', True, False],\n",
       " ['line', 'line', 'NOUN', 'NN', 'pobj', 'xxxx', True, False],\n",
       " ['digital', 'digital', 'ADJ', 'JJ', 'amod', 'xxxx', True, False],\n",
       " ['patient', 'patient', 'ADJ', 'JJ', 'compound', 'xxxx', True, False],\n",
       " ['tools', 'tool', 'NOUN', 'NNS', 'pobj', 'xxxx', True, False],\n",
       " ['including', 'include', 'VERB', 'VBG', 'prep', 'xxxx', True, False],\n",
       " ['video', 'video', 'NOUN', 'NN', 'compound', 'xxxx', True, False],\n",
       " ['visits', 'visit', 'NOUN', 'NNS', 'pobj', 'xxxx', True, False],\n",
       " ['online', 'online', 'ADJ', 'JJ', 'amod', 'xxxx', True, False],\n",
       " ['scheduling', 'scheduling', 'NOUN', 'NN', 'appos', 'xxxx', True, False],\n",
       " ['MyChart', 'MyChart', 'PROPN', 'NNP', 'pobj', 'XxXxxxx', True, False],\n",
       " ['OurHealth',\n",
       "  'OurHealth',\n",
       "  'PROPN',\n",
       "  'NNP',\n",
       "  'compound',\n",
       "  'XxxXxxxx',\n",
       "  True,\n",
       "  False],\n",
       " ['app', 'app', 'NOUN', 'NN', 'conj', 'xxx', True, False]]"
      ]
     },
     "execution_count": 304,
     "metadata": {},
     "output_type": "execute_result"
    }
   ],
   "source": [
    "table"
   ]
  },
  {
   "cell_type": "code",
   "execution_count": 305,
   "metadata": {},
   "outputs": [
    {
     "name": "stdout",
     "output_type": "stream",
     "text": [
      "╒═══════════════╤═════════════════╤═══════════╤═══════╤══════════════╤══════════╤════════════╤═══════════╕\n",
      "│ Text          │ Lemmatization   │ POS Tag   │ Tag   │ Dependency   │ Shape    │ Is Alpha   │ Is Stop   │\n",
      "╞═══════════════╪═════════════════╪═══════════╪═══════╪══════════════╪══════════╪════════════╪═══════════╡\n",
      "│ Lady          │ Lady            │ PROPN     │ NNP   │ nsubj        │ Xxxx     │ True       │ False     │\n",
      "├───────────────┼─────────────────┼───────────┼───────┼──────────────┼──────────┼────────────┼───────────┤\n",
      "│ Lake          │ Lake            │ PROPN     │ NNP   │ compound     │ Xxxx     │ True       │ False     │\n",
      "├───────────────┼─────────────────┼───────────┼───────┼──────────────┼──────────┼────────────┼───────────┤\n",
      "│ Childrens     │ Childrens       │ PROPN     │ NNP   │ compound     │ Xxxxx    │ True       │ False     │\n",
      "├───────────────┼─────────────────┼───────────┼───────┼──────────────┼──────────┼────────────┼───────────┤\n",
      "│ Health        │ Health          │ PROPN     │ NNP   │ pobj         │ Xxxxx    │ True       │ False     │\n",
      "├───────────────┼─────────────────┼───────────┼───────┼──────────────┼──────────┼────────────┼───────────┤\n",
      "│ launched      │ launch          │ VERB      │ VBN   │ ROOT         │ xxxx     │ True       │ False     │\n",
      "├───────────────┼─────────────────┼───────────┼───────┼──────────────┼──────────┼────────────┼───────────┤\n",
      "│ new           │ new             │ ADJ       │ JJ    │ amod         │ xxx      │ True       │ False     │\n",
      "├───────────────┼─────────────────┼───────────┼───────┼──────────────┼──────────┼────────────┼───────────┤\n",
      "│ digital       │ digital         │ ADJ       │ JJ    │ amod         │ xxxx     │ True       │ False     │\n",
      "├───────────────┼─────────────────┼───────────┼───────┼──────────────┼──────────┼────────────┼───────────┤\n",
      "│ symptom       │ symptom         │ NOUN      │ NN    │ compound     │ xxxx     │ True       │ False     │\n",
      "├───────────────┼─────────────────┼───────────┼───────┼──────────────┼──────────┼────────────┼───────────┤\n",
      "│ checker       │ checker         │ NOUN      │ NN    │ dobj         │ xxxx     │ True       │ False     │\n",
      "├───────────────┼─────────────────┼───────────┼───────┼──────────────┼──────────┼────────────┼───────────┤\n",
      "│ pediatric     │ pediatric       │ ADJ       │ JJ    │ amod         │ xxxx     │ True       │ False     │\n",
      "├───────────────┼─────────────────┼───────────┼───────┼──────────────┼──────────┼────────────┼───────────┤\n",
      "│ patients      │ patient         │ NOUN      │ NNS   │ pobj         │ xxxx     │ True       │ False     │\n",
      "├───────────────┼─────────────────┼───────────┼───────┼──────────────┼──────────┼────────────┼───────────┤\n",
      "│ ages          │ age             │ NOUN      │ NNS   │ npadvmod     │ xxxx     │ True       │ False     │\n",
      "├───────────────┼─────────────────┼───────────┼───────┼──────────────┼──────────┼────────────┼───────────┤\n",
      "│ offering      │ offer           │ VERB      │ VBG   │ advcl        │ xxxx     │ True       │ False     │\n",
      "├───────────────┼─────────────────┼───────────┼───────┼──────────────┼──────────┼────────────┼───────────┤\n",
      "│ ways          │ way             │ NOUN      │ NNS   │ dobj         │ xxxx     │ True       │ False     │\n",
      "├───────────────┼─────────────────┼───────────┼───────┼──────────────┼──────────┼────────────┼───────────┤\n",
      "│ access        │ access          │ VERB      │ VB    │ relcl        │ xxxx     │ True       │ False     │\n",
      "├───────────────┼─────────────────┼───────────┼───────┼──────────────┼──────────┼────────────┼───────────┤\n",
      "│ virtual       │ virtual         │ ADJ       │ JJ    │ acomp        │ xxxx     │ True       │ False     │\n",
      "├───────────────┼─────────────────┼───────────┼───────┼──────────────┼──────────┼────────────┼───────────┤\n",
      "│ seamless      │ seamless        │ ADJ       │ JJ    │ amod         │ xxxx     │ True       │ False     │\n",
      "├───────────────┼─────────────────┼───────────┼───────┼──────────────┼──────────┼────────────┼───────────┤\n",
      "│ guidance      │ guidance        │ NOUN      │ NN    │ dobj         │ xxxx     │ True       │ False     │\n",
      "├───────────────┼─────────────────┼───────────┼───────┼──────────────┼──────────┼────────────┼───────────┤\n",
      "│ time          │ time            │ NOUN      │ NN    │ npadvmod     │ xxxx     │ True       │ False     │\n",
      "├───────────────┼─────────────────┼───────────┼───────┼──────────────┼──────────┼────────────┼───────────┤\n",
      "│ day           │ day             │ NOUN      │ NN    │ appos        │ xxx      │ True       │ False     │\n",
      "├───────────────┼─────────────────┼───────────┼───────┼──────────────┼──────────┼────────────┼───────────┤\n",
      "│ night         │ night           │ NOUN      │ NN    │ conj         │ xxxx     │ True       │ False     │\n",
      "├───────────────┼─────────────────┼───────────┼───────┼──────────────┼──────────┼────────────┼───────────┤\n",
      "│ Pediatric     │ Pediatric       │ PROPN     │ NNP   │ compound     │ Xxxxx    │ True       │ False     │\n",
      "├───────────────┼─────────────────┼───────────┼───────┼──────────────┼──────────┼────────────┼───────────┤\n",
      "│ Symptom       │ Symptom         │ PROPN     │ NNP   │ compound     │ Xxxxx    │ True       │ False     │\n",
      "├───────────────┼─────────────────┼───────────┼───────┼──────────────┼──────────┼────────────┼───────────┤\n",
      "│ Checker       │ Checker         │ PROPN     │ NNP   │ nsubj        │ Xxxxx    │ True       │ False     │\n",
      "├───────────────┼─────────────────┼───────────┼───────┼──────────────┼──────────┼────────────┼───────────┤\n",
      "│ online        │ online          │ ADJ       │ JJ    │ amod         │ xxxx     │ True       │ False     │\n",
      "├───────────────┼─────────────────┼───────────┼───────┼──────────────┼──────────┼────────────┼───────────┤\n",
      "│ pediatric     │ pediatric       │ ADJ       │ JJ    │ amod         │ xxxx     │ True       │ False     │\n",
      "├───────────────┼─────────────────┼───────────┼───────┼──────────────┼──────────┼────────────┼───────────┤\n",
      "│ symptom       │ symptom         │ NOUN      │ NN    │ compound     │ xxxx     │ True       │ False     │\n",
      "├───────────────┼─────────────────┼───────────┼───────┼──────────────┼──────────┼────────────┼───────────┤\n",
      "│ checker       │ checker         │ NOUN      │ NN    │ compound     │ xxxx     │ True       │ False     │\n",
      "├───────────────┼─────────────────┼───────────┼───────┼──────────────┼──────────┼────────────┼───────────┤\n",
      "│ tool          │ tool            │ NOUN      │ NN    │ attr         │ xxxx     │ True       │ False     │\n",
      "├───────────────┼─────────────────┼───────────┼───────┼──────────────┼──────────┼────────────┼───────────┤\n",
      "│ created       │ create          │ VERB      │ VBD   │ acl          │ xxxx     │ True       │ False     │\n",
      "├───────────────┼─────────────────┼───────────┼───────┼──────────────┼──────────┼────────────┼───────────┤\n",
      "│ specifically  │ specifically    │ ADV       │ RB    │ advmod       │ xxxx     │ True       │ False     │\n",
      "├───────────────┼─────────────────┼───────────┼───────┼──────────────┼──────────┼────────────┼───────────┤\n",
      "│ region        │ region          │ NOUN      │ NN    │ pobj         │ xxxx     │ True       │ False     │\n",
      "├───────────────┼─────────────────┼───────────┼───────┼──────────────┼──────────┼────────────┼───────────┤\n",
      "│ provides      │ provide         │ VERB      │ VBZ   │ conj         │ xxxx     │ True       │ False     │\n",
      "├───────────────┼─────────────────┼───────────┼───────┼──────────────┼──────────┼────────────┼───────────┤\n",
      "│ parents       │ parent          │ NOUN      │ NNS   │ dobj         │ xxxx     │ True       │ False     │\n",
      "├───────────────┼─────────────────┼───────────┼───────┼──────────────┼──────────┼────────────┼───────────┤\n",
      "│ peace         │ peace           │ NOUN      │ NN    │ pobj         │ xxxx     │ True       │ False     │\n",
      "├───────────────┼─────────────────┼───────────┼───────┼──────────────┼──────────┼────────────┼───────────┤\n",
      "│ mind          │ mind            │ NOUN      │ NN    │ pobj         │ xxxx     │ True       │ False     │\n",
      "├───────────────┼─────────────────┼───────────┼───────┼──────────────┼──────────┼────────────┼───────────┤\n",
      "│ palm          │ palm            │ NOUN      │ NN    │ pobj         │ xxxx     │ True       │ False     │\n",
      "├───────────────┼─────────────────┼───────────┼───────┼──────────────┼──────────┼────────────┼───────────┤\n",
      "│ hands         │ hand            │ NOUN      │ NNS   │ pobj         │ xxxx     │ True       │ False     │\n",
      "├───────────────┼─────────────────┼───────────┼───────┼──────────────┼──────────┼────────────┼───────────┤\n",
      "│ answering     │ answer          │ VERB      │ VBG   │ pcomp        │ xxxx     │ True       │ False     │\n",
      "├───────────────┼─────────────────┼───────────┼───────┼──────────────┼──────────┼────────────┼───────────┤\n",
      "│ short         │ short           │ ADJ       │ JJ    │ amod         │ xxxx     │ True       │ False     │\n",
      "├───────────────┼─────────────────┼───────────┼───────┼──────────────┼──────────┼────────────┼───────────┤\n",
      "│ questions     │ question        │ NOUN      │ NNS   │ dobj         │ xxxx     │ True       │ False     │\n",
      "├───────────────┼─────────────────┼───────────┼───────┼──────────────┼──────────┼────────────┼───────────┤\n",
      "│ new           │ new             │ ADJ       │ JJ    │ amod         │ xxx      │ True       │ False     │\n",
      "├───────────────┼─────────────────┼───────────┼───────┼──────────────┼──────────┼────────────┼───────────┤\n",
      "│ online        │ online          │ ADJ       │ JJ    │ amod         │ xxxx     │ True       │ False     │\n",
      "├───────────────┼─────────────────┼───────────┼───────┼──────────────┼──────────┼────────────┼───────────┤\n",
      "│ tool          │ tool            │ NOUN      │ NN    │ nsubj        │ xxxx     │ True       │ False     │\n",
      "├───────────────┼─────────────────┼───────────┼───────┼──────────────┼──────────┼────────────┼───────────┤\n",
      "│ provide       │ provide         │ VERB      │ VB    │ ROOT         │ xxxx     │ True       │ False     │\n",
      "├───────────────┼─────────────────┼───────────┼───────┼──────────────┼──────────┼────────────┼───────────┤\n",
      "│ advice        │ advice          │ NOUN      │ NN    │ dobj         │ xxxx     │ True       │ False     │\n",
      "├───────────────┼─────────────────┼───────────┼───────┼──────────────┼──────────┼────────────┼───────────┤\n",
      "│ steps         │ step            │ NOUN      │ NNS   │ pobj         │ xxxx     │ True       │ False     │\n",
      "├───────────────┼─────────────────┼───────────┼───────┼──────────────┼──────────┼────────────┼───────────┤\n",
      "│ seeking       │ seek            │ VERB      │ VBG   │ pcomp        │ xxxx     │ True       │ False     │\n",
      "├───────────────┼─────────────────┼───────────┼───────┼──────────────┼──────────┼────────────┼───────────┤\n",
      "│ treatment     │ treatment       │ NOUN      │ NN    │ dobj         │ xxxx     │ True       │ False     │\n",
      "├───────────────┼─────────────────┼───────────┼───────┼──────────────┼──────────┼────────────┼───────────┤\n",
      "│ care          │ care            │ NOUN      │ NN    │ conj         │ xxxx     │ True       │ False     │\n",
      "├───────────────┼─────────────────┼───────────┼───────┼──────────────┼──────────┼────────────┼───────────┤\n",
      "│ sick          │ sick            │ ADJ       │ JJ    │ amod         │ xxxx     │ True       │ False     │\n",
      "├───────────────┼─────────────────┼───────────┼───────┼──────────────┼──────────┼────────────┼───────────┤\n",
      "│ child         │ child           │ NOUN      │ NN    │ pobj         │ xxxx     │ True       │ False     │\n",
      "├───────────────┼─────────────────┼───────────┼───────┼──────────────┼──────────┼────────────┼───────────┤\n",
      "│ Pediatric     │ Pediatric       │ PROPN     │ NNP   │ compound     │ Xxxxx    │ True       │ False     │\n",
      "├───────────────┼─────────────────┼───────────┼───────┼──────────────┼──────────┼────────────┼───────────┤\n",
      "│ Symptom       │ Symptom         │ PROPN     │ NNP   │ compound     │ Xxxxx    │ True       │ False     │\n",
      "├───────────────┼─────────────────┼───────────┼───────┼──────────────┼──────────┼────────────┼───────────┤\n",
      "│ Checker       │ Checker         │ PROPN     │ NNP   │ nsubjpass    │ Xxxxx    │ True       │ False     │\n",
      "├───────────────┼─────────────────┼───────────┼───────┼──────────────┼──────────┼────────────┼───────────┤\n",
      "│ designed      │ design          │ VERB      │ VBN   │ ccomp        │ xxxx     │ True       │ False     │\n",
      "├───────────────┼─────────────────┼───────────┼───────┼──────────────┼──────────┼────────────┼───────────┤\n",
      "│ help          │ help            │ VERB      │ VB    │ xcomp        │ xxxx     │ True       │ False     │\n",
      "├───────────────┼─────────────────┼───────────┼───────┼──────────────┼──────────┼────────────┼───────────┤\n",
      "│ parents       │ parent          │ NOUN      │ NNS   │ nsubj        │ xxxx     │ True       │ False     │\n",
      "├───────────────┼─────────────────┼───────────┼───────┼──────────────┼──────────┼────────────┼───────────┤\n",
      "│ decide        │ decide          │ VERB      │ VB    │ ccomp        │ xxxx     │ True       │ False     │\n",
      "├───────────────┼─────────────────┼───────────┼───────┼──────────────┼──────────┼────────────┼───────────┤\n",
      "│ best          │ good            │ ADJ       │ JJS   │ amod         │ xxxx     │ True       │ False     │\n",
      "├───────────────┼─────────────────┼───────────┼───────┼──────────────┼──────────┼────────────┼───────────┤\n",
      "│ course        │ course          │ NOUN      │ NN    │ dobj         │ xxxx     │ True       │ False     │\n",
      "├───────────────┼─────────────────┼───────────┼───────┼──────────────┼──────────┼────────────┼───────────┤\n",
      "│ care          │ care            │ NOUN      │ NN    │ pobj         │ xxxx     │ True       │ False     │\n",
      "├───────────────┼─────────────────┼───────────┼───────┼──────────────┼──────────┼────────────┼───────────┤\n",
      "│ child         │ child           │ NOUN      │ NN    │ pobj         │ xxxx     │ True       │ False     │\n",
      "├───────────────┼─────────────────┼───────────┼───────┼──────────────┼──────────┼────────────┼───────────┤\n",
      "│ matter        │ matter          │ ADV       │ RB    │ advmod       │ xxxx     │ True       │ False     │\n",
      "├───────────────┼─────────────────┼───────────┼───────┼──────────────┼──────────┼────────────┼───────────┤\n",
      "│ time          │ time            │ NOUN      │ NN    │ attr         │ xxxx     │ True       │ False     │\n",
      "├───────────────┼─────────────────┼───────────┼───────┼──────────────┼──────────┼────────────┼───────────┤\n",
      "│ says          │ say             │ VERB      │ VBZ   │ ROOT         │ xxxx     │ True       │ False     │\n",
      "├───────────────┼─────────────────┼───────────┼───────┼──────────────┼──────────┼────────────┼───────────┤\n",
      "│ Brett         │ Brett           │ PROPN     │ NNP   │ compound     │ Xxxxx    │ True       │ False     │\n",
      "├───────────────┼─────────────────┼───────────┼───────┼──────────────┼──────────┼────────────┼───────────┤\n",
      "│ Hutchinson    │ Hutchinson      │ PROPN     │ NNP   │ compound     │ Xxxxx    │ True       │ False     │\n",
      "├───────────────┼─────────────────┼───────────┼───────┼──────────────┼──────────┼────────────┼───────────┤\n",
      "│ MD            │ MD              │ PROPN     │ NNP   │ compound     │ XX       │ True       │ False     │\n",
      "├───────────────┼─────────────────┼───────────┼───────┼──────────────┼──────────┼────────────┼───────────┤\n",
      "│ pediatrician  │ pediatrician    │ NOUN      │ NN    │ nsubj        │ xxxx     │ True       │ False     │\n",
      "├───────────────┼─────────────────┼───────────┼───────┼──────────────┼──────────┼────────────┼───────────┤\n",
      "│ Lady          │ Lady            │ PROPN     │ NNP   │ pobj         │ Xxxx     │ True       │ False     │\n",
      "├───────────────┼─────────────────┼───────────┼───────┼──────────────┼──────────┼────────────┼───────────┤\n",
      "│ Lake          │ Lake            │ PROPN     │ NNP   │ compound     │ Xxxx     │ True       │ False     │\n",
      "├───────────────┼─────────────────┼───────────┼───────┼──────────────┼──────────┼────────────┼───────────┤\n",
      "│ Childrens     │ Childrens       │ PROPN     │ NNP   │ compound     │ Xxxxx    │ True       │ False     │\n",
      "├───────────────┼─────────────────┼───────────┼───────┼──────────────┼──────────┼────────────┼───────────┤\n",
      "│ Health        │ Health          │ PROPN     │ NNP   │ pobj         │ Xxxxx    │ True       │ False     │\n",
      "├───────────────┼─────────────────┼───────────┼───────┼──────────────┼──────────┼────────────┼───────────┤\n",
      "│ goal          │ goal            │ NOUN      │ NN    │ nsubj        │ xxxx     │ True       │ False     │\n",
      "├───────────────┼─────────────────┼───────────┼───────┼──────────────┼──────────┼────────────┼───────────┤\n",
      "│ relieve       │ relieve         │ VERB      │ VB    │ xcomp        │ xxxx     │ True       │ False     │\n",
      "├───────────────┼─────────────────┼───────────┼───────┼──────────────┼──────────┼────────────┼───────────┤\n",
      "│ stress        │ stress          │ NOUN      │ NN    │ pobj         │ xxxx     │ True       │ False     │\n",
      "├───────────────┼─────────────────┼───────────┼───────┼──────────────┼──────────┼────────────┼───────────┤\n",
      "│ parenting     │ parenting       │ NOUN      │ NN    │ pobj         │ xxxx     │ True       │ False     │\n",
      "├───────────────┼─────────────────┼───────────┼───────┼──────────────┼──────────┼────────────┼───────────┤\n",
      "│ making        │ make            │ VERB      │ VBG   │ pcomp        │ xxxx     │ True       │ False     │\n",
      "├───────────────┼─────────────────┼───────────┼───────┼──────────────┼──────────┼────────────┼───────────┤\n",
      "│ care          │ care            │ NOUN      │ NN    │ nsubj        │ xxxx     │ True       │ False     │\n",
      "├───────────────┼─────────────────┼───────────┼───────┼──────────────┼──────────┼────────────┼───────────┤\n",
      "│ accessible    │ accessible      │ ADJ       │ JJ    │ ccomp        │ xxxx     │ True       │ False     │\n",
      "├───────────────┼─────────────────┼───────────┼───────┼──────────────┼──────────┼────────────┼───────────┤\n",
      "│ easy          │ easy            │ ADJ       │ JJ    │ conj         │ xxxx     │ True       │ False     │\n",
      "├───────────────┼─────────────────┼───────────┼───────┼──────────────┼──────────┼────────────┼───────────┤\n",
      "│ navigate      │ navigate        │ VERB      │ VB    │ xcomp        │ xxxx     │ True       │ False     │\n",
      "├───────────────┼─────────────────┼───────────┼───────┼──────────────┼──────────┼────────────┼───────────┤\n",
      "│ symptom       │ symptom         │ NOUN      │ NN    │ compound     │ xxxx     │ True       │ False     │\n",
      "├───────────────┼─────────────────┼───────────┼───────┼──────────────┼──────────┼────────────┼───────────┤\n",
      "│ checker       │ checker         │ NOUN      │ NN    │ nsubjpass    │ xxxx     │ True       │ False     │\n",
      "├───────────────┼─────────────────┼───────────┼───────┼──────────────┼──────────┼────────────┼───────────┤\n",
      "│ designed      │ design          │ VERB      │ VBN   │ ROOT         │ xxxx     │ True       │ False     │\n",
      "├───────────────┼─────────────────┼───────────┼───────┼──────────────┼──────────┼────────────┼───────────┤\n",
      "│ help          │ help            │ VERB      │ VB    │ xcomp        │ xxxx     │ True       │ False     │\n",
      "├───────────────┼─────────────────┼───────────┼───────┼──────────────┼──────────┼────────────┼───────────┤\n",
      "│ parents       │ parent          │ NOUN      │ NNS   │ nsubj        │ xxxx     │ True       │ False     │\n",
      "├───────────────┼─────────────────┼───────────┼───────┼──────────────┼──────────┼────────────┼───────────┤\n",
      "│ guardians     │ guardian        │ NOUN      │ NNS   │ conj         │ xxxx     │ True       │ False     │\n",
      "├───────────────┼─────────────────┼───────────┼───────┼──────────────┼──────────┼────────────┼───────────┤\n",
      "│ decide        │ decide          │ VERB      │ VBP   │ ccomp        │ xxxx     │ True       │ False     │\n",
      "├───────────────┼─────────────────┼───────────┼───────┼──────────────┼──────────┼────────────┼───────────┤\n",
      "│ appropriate   │ appropriate     │ ADJ       │ JJ    │ amod         │ xxxx     │ True       │ False     │\n",
      "├───────────────┼─────────────────┼───────────┼───────┼──────────────┼──────────┼────────────┼───────────┤\n",
      "│ care          │ care            │ NOUN      │ NN    │ compound     │ xxxx     │ True       │ False     │\n",
      "├───────────────┼─────────────────┼───────────┼───────┼──────────────┼──────────┼────────────┼───────────┤\n",
      "│ setting       │ setting         │ NOUN      │ NN    │ pobj         │ xxxx     │ True       │ False     │\n",
      "├───────────────┼─────────────────┼───────────┼───────┼──────────────┼──────────┼────────────┼───────────┤\n",
      "│ based         │ base            │ VERB      │ VBN   │ acl          │ xxxx     │ True       │ False     │\n",
      "├───────────────┼─────────────────┼───────────┼───────┼──────────────┼──────────┼────────────┼───────────┤\n",
      "│ childs        │ child           │ NOUN      │ NNS   │ compound     │ xxxx     │ True       │ False     │\n",
      "├───────────────┼─────────────────┼───────────┼───────┼──────────────┼──────────┼────────────┼───────────┤\n",
      "│ symptoms      │ symptom         │ NOUN      │ NNS   │ pobj         │ xxxx     │ True       │ False     │\n",
      "├───────────────┼─────────────────┼───────────┼───────┼──────────────┼──────────┼────────────┼───────────┤\n",
      "│ special       │ special         │ ADJ       │ JJ    │ amod         │ xxxx     │ True       │ False     │\n",
      "├───────────────┼─────────────────┼───────────┼───────┼──────────────┼──────────┼────────────┼───────────┤\n",
      "│ circumstances │ circumstance    │ NOUN      │ NNS   │ conj         │ xxxx     │ True       │ False     │\n",
      "├───────────────┼─────────────────┼───────────┼───────┼──────────────┼──────────┼────────────┼───────────┤\n",
      "│ tool          │ tool            │ NOUN      │ NN    │ nsubj        │ xxxx     │ True       │ False     │\n",
      "├───────────────┼─────────────────┼───────────┼───────┼──────────────┼──────────┼────────────┼───────────┤\n",
      "│ free          │ free            │ ADJ       │ JJ    │ acomp        │ xxxx     │ True       │ False     │\n",
      "├───────────────┼─────────────────┼───────────┼───────┼──────────────┼──────────┼────────────┼───────────┤\n",
      "│ available     │ available       │ ADJ       │ JJ    │ conj         │ xxxx     │ True       │ False     │\n",
      "├───────────────┼─────────────────┼───────────┼───────┼──────────────┼──────────┼────────────┼───────────┤\n",
      "│ online        │ online          │ ADV       │ RB    │ advmod       │ xxxx     │ True       │ False     │\n",
      "├───────────────┼─────────────────┼───────────┼───────┼──────────────┼──────────┼────────────┼───────────┤\n",
      "│ answering     │ answer          │ VERB      │ VBG   │ pcomp        │ xxxx     │ True       │ False     │\n",
      "├───────────────┼─────────────────┼───────────┼───────┼──────────────┼──────────┼────────────┼───────────┤\n",
      "│ quick         │ quick           │ ADJ       │ JJ    │ amod         │ xxxx     │ True       │ False     │\n",
      "├───────────────┼─────────────────┼───────────┼───────┼──────────────┼──────────┼────────────┼───────────┤\n",
      "│ confidential  │ confidential    │ ADJ       │ JJ    │ amod         │ xxxx     │ True       │ False     │\n",
      "├───────────────┼─────────────────┼───────────┼───────┼──────────────┼──────────┼────────────┼───────────┤\n",
      "│ questions     │ question        │ NOUN      │ NNS   │ dobj         │ xxxx     │ True       │ False     │\n",
      "├───────────────┼─────────────────┼───────────┼───────┼──────────────┼──────────┼────────────┼───────────┤\n",
      "│ parents       │ parent          │ NOUN      │ NNS   │ nsubj        │ xxxx     │ True       │ False     │\n",
      "├───────────────┼─────────────────┼───────────┼───────┼──────────────┼──────────┼────────────┼───────────┤\n",
      "│ able          │ able            │ ADJ       │ JJ    │ acomp        │ xxxx     │ True       │ False     │\n",
      "├───────────────┼─────────────────┼───────────┼───────┼──────────────┼──────────┼────────────┼───────────┤\n",
      "│ use           │ use             │ VERB      │ VB    │ xcomp        │ xxx      │ True       │ False     │\n",
      "├───────────────┼─────────────────┼───────────┼───────┼──────────────┼──────────┼────────────┼───────────┤\n",
      "│ new           │ new             │ ADJ       │ JJ    │ amod         │ xxx      │ True       │ False     │\n",
      "├───────────────┼─────────────────┼───────────┼───────┼──────────────┼──────────┼────────────┼───────────┤\n",
      "│ resource      │ resource        │ NOUN      │ NN    │ dobj         │ xxxx     │ True       │ False     │\n",
      "├───────────────┼─────────────────┼───────────┼───────┼──────────────┼──────────┼────────────┼───────────┤\n",
      "│ determine     │ determine       │ VERB      │ VB    │ xcomp        │ xxxx     │ True       │ False     │\n",
      "├───────────────┼─────────────────┼───────────┼───────┼──────────────┼──────────┼────────────┼───────────┤\n",
      "│ ER            │ ER              │ PROPN     │ NNP   │ pobj         │ XX       │ True       │ False     │\n",
      "├───────────────┼─────────────────┼───────────┼───────┼──────────────┼──────────┼────────────┼───────────┤\n",
      "│ contact       │ contact         │ VERB      │ VB    │ dep          │ xxxx     │ True       │ False     │\n",
      "├───────────────┼─────────────────┼───────────┼───────┼──────────────┼──────────┼────────────┼───────────┤\n",
      "│ pediatrician  │ pediatrician    │ NOUN      │ NN    │ dobj         │ xxxx     │ True       │ False     │\n",
      "├───────────────┼─────────────────┼───────────┼───────┼──────────────┼──────────┼────────────┼───────────┤\n",
      "│ immediately   │ immediately     │ ADV       │ RB    │ advmod       │ xxxx     │ True       │ False     │\n",
      "├───────────────┼─────────────────┼───────────┼───────┼──────────────┼──────────┼────────────┼───────────┤\n",
      "│ appointment   │ appointment     │ NOUN      │ NN    │ dobj         │ xxxx     │ True       │ False     │\n",
      "├───────────────┼─────────────────┼───────────┼───────┼──────────────┼──────────┼────────────┼───────────┤\n",
      "│ provider      │ provider        │ NOUN      │ NN    │ pobj         │ xxxx     │ True       │ False     │\n",
      "├───────────────┼─────────────────┼───────────┼───────┼──────────────┼──────────┼────────────┼───────────┤\n",
      "│ seek          │ seek            │ VERB      │ VB    │ conj         │ xxxx     │ True       │ False     │\n",
      "├───────────────┼─────────────────┼───────────┼───────┼──────────────┼──────────┼────────────┼───────────┤\n",
      "│ type          │ type            │ NOUN      │ NN    │ dobj         │ xxxx     │ True       │ False     │\n",
      "├───────────────┼─────────────────┼───────────┼───────┼──────────────┼──────────┼────────────┼───────────┤\n",
      "│ care          │ care            │ NOUN      │ NN    │ pobj         │ xxxx     │ True       │ False     │\n",
      "├───────────────┼─────────────────┼───────────┼───────┼──────────────┼──────────┼────────────┼───────────┤\n",
      "│ visit         │ visit           │ VERB      │ VB    │ ROOT         │ xxxx     │ True       │ False     │\n",
      "├───────────────┼─────────────────┼───────────┼───────┼──────────────┼──────────┼────────────┼───────────┤\n",
      "│ access        │ access          │ VERB      │ VB    │ advcl        │ xxxx     │ True       │ False     │\n",
      "├───────────────┼─────────────────┼───────────┼───────┼──────────────┼──────────┼────────────┼───────────┤\n",
      "│ digital       │ digital         │ ADJ       │ JJ    │ amod         │ xxxx     │ True       │ False     │\n",
      "├───────────────┼─────────────────┼───────────┼───────┼──────────────┼──────────┼────────────┼───────────┤\n",
      "│ symptom       │ symptom         │ NOUN      │ NN    │ compound     │ xxxx     │ True       │ False     │\n",
      "├───────────────┼─────────────────┼───────────┼───────┼──────────────┼──────────┼────────────┼───────────┤\n",
      "│ checker       │ checker         │ NOUN      │ NN    │ dobj         │ xxxx     │ True       │ False     │\n",
      "├───────────────┼─────────────────┼───────────┼───────┼──────────────┼──────────┼────────────┼───────────┤\n",
      "│ Pediatric     │ Pediatric       │ PROPN     │ NNP   │ compound     │ Xxxxx    │ True       │ False     │\n",
      "├───────────────┼─────────────────┼───────────┼───────┼──────────────┼──────────┼────────────┼───────────┤\n",
      "│ Symptom       │ Symptom         │ PROPN     │ NNP   │ compound     │ Xxxxx    │ True       │ False     │\n",
      "├───────────────┼─────────────────┼───────────┼───────┼──────────────┼──────────┼────────────┼───────────┤\n",
      "│ Tracker       │ Tracker         │ PROPN     │ NNP   │ nsubj        │ Xxxxx    │ True       │ False     │\n",
      "├───────────────┼─────────────────┼───────────┼───────┼──────────────┼──────────┼────────────┼───────────┤\n",
      "│ latest        │ late            │ ADJ       │ JJS   │ attr         │ xxxx     │ True       │ False     │\n",
      "├───────────────┼─────────────────┼───────────┼───────┼──────────────┼──────────┼────────────┼───────────┤\n",
      "│ long          │ long            │ ADJ       │ JJ    │ amod         │ xxxx     │ True       │ False     │\n",
      "├───────────────┼─────────────────┼───────────┼───────┼──────────────┼──────────┼────────────┼───────────┤\n",
      "│ line          │ line            │ NOUN      │ NN    │ pobj         │ xxxx     │ True       │ False     │\n",
      "├───────────────┼─────────────────┼───────────┼───────┼──────────────┼──────────┼────────────┼───────────┤\n",
      "│ digital       │ digital         │ ADJ       │ JJ    │ amod         │ xxxx     │ True       │ False     │\n",
      "├───────────────┼─────────────────┼───────────┼───────┼──────────────┼──────────┼────────────┼───────────┤\n",
      "│ patient       │ patient         │ ADJ       │ JJ    │ compound     │ xxxx     │ True       │ False     │\n",
      "├───────────────┼─────────────────┼───────────┼───────┼──────────────┼──────────┼────────────┼───────────┤\n",
      "│ tools         │ tool            │ NOUN      │ NNS   │ pobj         │ xxxx     │ True       │ False     │\n",
      "├───────────────┼─────────────────┼───────────┼───────┼──────────────┼──────────┼────────────┼───────────┤\n",
      "│ including     │ include         │ VERB      │ VBG   │ prep         │ xxxx     │ True       │ False     │\n",
      "├───────────────┼─────────────────┼───────────┼───────┼──────────────┼──────────┼────────────┼───────────┤\n",
      "│ video         │ video           │ NOUN      │ NN    │ compound     │ xxxx     │ True       │ False     │\n",
      "├───────────────┼─────────────────┼───────────┼───────┼──────────────┼──────────┼────────────┼───────────┤\n",
      "│ visits        │ visit           │ NOUN      │ NNS   │ pobj         │ xxxx     │ True       │ False     │\n",
      "├───────────────┼─────────────────┼───────────┼───────┼──────────────┼──────────┼────────────┼───────────┤\n",
      "│ online        │ online          │ ADJ       │ JJ    │ amod         │ xxxx     │ True       │ False     │\n",
      "├───────────────┼─────────────────┼───────────┼───────┼──────────────┼──────────┼────────────┼───────────┤\n",
      "│ scheduling    │ scheduling      │ NOUN      │ NN    │ appos        │ xxxx     │ True       │ False     │\n",
      "├───────────────┼─────────────────┼───────────┼───────┼──────────────┼──────────┼────────────┼───────────┤\n",
      "│ MyChart       │ MyChart         │ PROPN     │ NNP   │ pobj         │ XxXxxxx  │ True       │ False     │\n",
      "├───────────────┼─────────────────┼───────────┼───────┼──────────────┼──────────┼────────────┼───────────┤\n",
      "│ OurHealth     │ OurHealth       │ PROPN     │ NNP   │ compound     │ XxxXxxxx │ True       │ False     │\n",
      "├───────────────┼─────────────────┼───────────┼───────┼──────────────┼──────────┼────────────┼───────────┤\n",
      "│ app           │ app             │ NOUN      │ NN    │ conj         │ xxx      │ True       │ False     │\n",
      "╘═══════════════╧═════════════════╧═══════════╧═══════╧══════════════╧══════════╧════════════╧═══════════╛\n"
     ]
    }
   ],
   "source": [
    "from tabulate import tabulate\n",
    "\n",
    "print(tabulate(table, headers='firstrow', tablefmt='fancy_grid'))\n"
   ]
  },
  {
   "cell_type": "code",
   "execution_count": 306,
   "metadata": {},
   "outputs": [
    {
     "name": "stdout",
     "output_type": "stream",
     "text": [
      "Text === Start Char === End Char === Label\n",
      "the Lake Childrens Health === 12 === 37 === ORG\n",
      "0-17 === 109 === 113 === DATE\n",
      "night === 188 === 193 === TIME\n",
      "The Pediatric Symptom Checker === 195 === 224 === ORG\n",
      "first === 232 === 237 === ORDINAL\n",
      "The Pediatric Symptom Checker === 525 === 554 === ORG\n",
      "Brett Hutchinson MD === 679 === 698 === PERSON\n",
      "the Lake Childrens Health === 727 === 752 === ORG\n",
      "ER === 1203 === 1205 === ORG\n",
      "The Pediatric Symptom Tracker === 1395 === 1424 === ORG\n",
      "MyChart === 1529 === 1536 === ORG\n",
      "OurHealth === 1545 === 1554 === ORG\n"
     ]
    }
   ],
   "source": [
    "print(\"Text === Start Char === End Char === Label\")\n",
    "for ent in doc.ents:\n",
    "    print(ent.text, '===', ent.start_char, '===', ent.end_char, '===', ent.label_)"
   ]
  },
  {
   "cell_type": "markdown",
   "metadata": {},
   "source": [
    "# NER Based-Approach"
   ]
  },
  {
   "cell_type": "markdown",
   "metadata": {},
   "source": [
    "## Finding the Entity"
   ]
  },
  {
   "cell_type": "code",
   "execution_count": 307,
   "metadata": {},
   "outputs": [
    {
     "name": "stdout",
     "output_type": "stream",
     "text": [
      "Brett Hutchinson MD\n"
     ]
    }
   ],
   "source": [
    "for ent in doc.ents:\n",
    "    if ent.label_ == \"PERSON\":\n",
    "        print(ent.text)"
   ]
  },
  {
   "cell_type": "code",
   "execution_count": 308,
   "metadata": {},
   "outputs": [
    {
     "data": {
      "text/plain": [
       "array(['Brett Hutchinson MD', 'ER', 'MyChart', 'OurHealth',\n",
       "       'The Pediatric Symptom Checker', 'The Pediatric Symptom Tracker',\n",
       "       'the Lake Childrens Health'], dtype='<U29')"
      ]
     },
     "execution_count": 308,
     "metadata": {},
     "output_type": "execute_result"
    }
   ],
   "source": [
    "who_aspect = []\n",
    "for ent in doc.ents:\n",
    "    if ent.label_ == \"PERSON\" or ent.label_ == \"ORG\":\n",
    "        who_aspect.append(ent.text)\n",
    "\n",
    "who_aspect = np.unique(who_aspect)\n",
    "who_aspect"
   ]
  },
  {
   "cell_type": "code",
   "execution_count": 309,
   "metadata": {},
   "outputs": [],
   "source": [
    "from spacy.matcher import PhraseMatcher\n",
    "from spacy.matcher import Matcher\n",
    "\n"
   ]
  },
  {
   "cell_type": "code",
   "execution_count": 310,
   "metadata": {},
   "outputs": [
    {
     "name": "stdout",
     "output_type": "stream",
     "text": [
      "[Brett Hutchinson MD, ER, MyChart, OurHealth, The Pediatric Symptom Checker, The Pediatric Symptom Tracker, the Lake Childrens Health]\n",
      "1 By answering a few quick, confidential questions, parents will be able to use this new resource to determine if they should go to the ER, contact a pediatrician immediately, make an appointment with a provider or seek another type of care.\n",
      "2 Our Lady of the Lake Childrens Health has launched a new digital symptom checker for pediatric patients ages 0-17, offering more ways to access virtual, seamless guidance any time, day or night.\n",
      "3 The Pediatric Symptom Checker is designed to help parents decide the best course of care for their child no matter where they are or what time it is says Brett Hutchinson MD pediatrician at Our Lady of the Lake Childrens Health.\n",
      "4 The Pediatric Symptom Checker is the first online pediatric symptom checker tool created specifically for the region and provides parents with peace of mind in the palm of their hands.\n",
      "5 The Pediatric Symptom Tracker is the latest in a long line of digital patient tools including video visits, online scheduling through MyChart and the OurHealth app.\n"
     ]
    }
   ],
   "source": [
    "matcher = PhraseMatcher(nlp.vocab)\n",
    "terms = who_aspect.tolist()\n",
    "\n",
    "# Only run nlp.make_doc to speed things up\n",
    "patterns = [nlp(text) for text in terms]\n",
    "matcher.add(\"TerminologyList\", patterns)\n",
    "\n",
    "print(patterns)\n",
    "\n",
    "filtered_sentences = []\n",
    "for sent in doc.sents:\n",
    "    for match_id, start, end in matcher(nlp(sent.text)):\n",
    "        if nlp.vocab.strings[match_id] in [\"TerminologyList\"]:\n",
    "            filtered_sentences.append(sent.text)\n",
    "\n",
    "filtered_sentences = np.unique(filtered_sentences)\n",
    "a = 1\n",
    "for i in filtered_sentences:\n",
    "    print(a, i)\n",
    "    a=a+1"
   ]
  },
  {
   "cell_type": "markdown",
   "metadata": {},
   "source": [
    "# Class UserPersona"
   ]
  },
  {
   "cell_type": "code",
   "execution_count": 311,
   "metadata": {},
   "outputs": [],
   "source": [
    "class UserPersona:\n",
    "    def __init__(self, name, work=\"\", job_title=\"\", goals=[]):\n",
    "        self.name = name\n",
    "        self.work = work\n",
    "        self.goals = goals\n",
    "        self.job_title = job_title\n",
    "    "
   ]
  },
  {
   "cell_type": "code",
   "execution_count": 312,
   "metadata": {},
   "outputs": [],
   "source": [
    "def findingSentencesWithEntities(input):\n",
    "    doc = nlp(input)\n",
    "\n",
    "    who_aspect = []\n",
    "    for ent in doc.ents:\n",
    "        if ent.label_ == \"PERSON\" or ent.label_ == \"ORG\":\n",
    "            who_aspect.append(ent.text)\n",
    "\n",
    "    who_aspect = np.unique(who_aspect)\n",
    "\n",
    "    matcher = PhraseMatcher(nlp.vocab)\n",
    "    terms = who_aspect.tolist()\n",
    "\n",
    "    # Only run nlp.make_doc to speed things up\n",
    "    patterns = [nlp(text) for text in terms]\n",
    "    matcher.add(\"TerminologyList\", patterns)\n",
    "\n",
    "    filtered_sentences = []\n",
    "    for sent in doc.sents:\n",
    "        for match_id, start, end in matcher(nlp(sent.text)):\n",
    "            if nlp.vocab.strings[match_id] in [\"TerminologyList\"]:\n",
    "                filtered_sentences.append(sent.text)\n",
    "\n",
    "    filtered_sentences = np.unique(filtered_sentences)\n",
    "\n",
    "    return filtered_sentences"
   ]
  },
  {
   "cell_type": "code",
   "execution_count": 313,
   "metadata": {},
   "outputs": [
    {
     "data": {
      "text/plain": [
       "array(['By answering a few quick, confidential questions, parents will be able to use this new resource to determine if they should go to the ER, contact a pediatrician immediately, make an appointment with a provider or seek another type of care.',\n",
       "       'Our Lady of the Lake Childrens Health has launched a new digital symptom checker for pediatric patients ages 0-17, offering more ways to access virtual, seamless guidance any time, day or night.',\n",
       "       'The Pediatric Symptom Checker is designed to help parents decide the best course of care for their child no matter where they are or what time it is says Brett Hutchinson MD pediatrician at Our Lady of the Lake Childrens Health.',\n",
       "       'The Pediatric Symptom Checker is the first online pediatric symptom checker tool created specifically for the region and provides parents with peace of mind in the palm of their hands.',\n",
       "       'The Pediatric Symptom Tracker is the latest in a long line of digital patient tools including video visits, online scheduling through MyChart and the OurHealth app.'],\n",
       "      dtype='<U239')"
      ]
     },
     "execution_count": 313,
     "metadata": {},
     "output_type": "execute_result"
    }
   ],
   "source": [
    "filtered_sentences"
   ]
  },
  {
   "cell_type": "markdown",
   "metadata": {},
   "source": [
    "## Profiling"
   ]
  },
  {
   "cell_type": "code",
   "execution_count": 314,
   "metadata": {},
   "outputs": [],
   "source": [
    "def profilingEntities(sentences):\n",
    "    list_of_user_persona = []\n",
    "    list_of_names = []\n",
    "    \n",
    "    for each in sentences:\n",
    "        go = nlp((str(each)))\n",
    "        token_types = [token.ent_type_ for token in go]\n",
    "\n",
    "        if('PERSON' in token_types) or ('ORG' in token_types):\n",
    "            print(go.ents)\n",
    "\n",
    "            # mencari nama\n",
    "            for ent in go.ents:\n",
    "                if ent.label_ == \"PERSON\":\n",
    "                    nama = ent.text\n",
    "                    print('Person:' + ent.text)\n",
    "                    break\n",
    "                if ent.label_ == \"ORG\":\n",
    "                    nama = ent.text\n",
    "                    print('Organization:' + ent.text)\n",
    "                    pass     \n",
    "            \n",
    "            # mencari organisasi\n",
    "            if('PERSON' in token_types) and ('ORG' in token_types):\n",
    "                for ent in go.ents:\n",
    "                    if ent.label_== \"ORG\":\n",
    "                        kerja = ent.text\n",
    "                        print('Work:' + ent.text)\n",
    "                    \n",
    "            else:\n",
    "                kerja = \"\"\n",
    "                print('Work: N/A')\n",
    "            print()\n",
    "\n",
    "            # mencari job title\n",
    "            job_matcher = PhraseMatcher(nlp.vocab)\n",
    "            jabatan = job_titles\n",
    "\n",
    "            patterns_job = [nlp.make_doc(text) for text in jabatan]\n",
    "            job_matcher.add(\"TerminologyList\", patterns_job)\n",
    "\n",
    "            nama_jabatan = \"\"\n",
    "            job_titles_found = job_matcher(go)\n",
    "            for match_id, start, end in job_titles_found:\n",
    "                nama_jabatan = go[start:end]\n",
    "                print(go[start:end])\n",
    "\n",
    "            baru = UserPersona(nama, kerja, str(nama_jabatan), [])\n",
    "            list_of_user_persona.append(baru.__dict__)\n",
    "        \n",
    "    res_list = []\n",
    "    for i in range(len(list_of_user_persona)):\n",
    "        if list_of_user_persona[i] not in list_of_user_persona[i + 1:]:\n",
    "            res_list.append(list_of_user_persona[i])\n",
    "        \n",
    "    return list_of_user_persona\n",
    "        \n",
    "    "
   ]
  },
  {
   "cell_type": "code",
   "execution_count": 315,
   "metadata": {},
   "outputs": [
    {
     "name": "stdout",
     "output_type": "stream",
     "text": [
      "(ER,)\n",
      "Organization:ER\n",
      "Work: N/A\n",
      "\n",
      "(the Lake Childrens Health, 0-17, night)\n",
      "Organization:the Lake Childrens Health\n",
      "Work: N/A\n",
      "\n",
      "(The Pediatric Symptom Checker, Brett Hutchinson MD, the Lake Childrens Health)\n",
      "Organization:The Pediatric Symptom Checker\n",
      "Person:Brett Hutchinson MD\n",
      "Work:The Pediatric Symptom Checker\n",
      "Work:the Lake Childrens Health\n",
      "\n",
      "(The Pediatric Symptom Checker, first)\n",
      "Organization:The Pediatric Symptom Checker\n",
      "Work: N/A\n",
      "\n",
      "(The Pediatric Symptom Tracker, MyChart, OurHealth)\n",
      "Organization:The Pediatric Symptom Tracker\n",
      "Organization:MyChart\n",
      "Organization:OurHealth\n",
      "Work: N/A\n",
      "\n"
     ]
    },
    {
     "data": {
      "text/plain": [
       "[{'name': 'ER', 'work': '', 'goals': [], 'job_title': ''},\n",
       " {'name': 'the Lake Childrens Health',\n",
       "  'work': '',\n",
       "  'goals': [],\n",
       "  'job_title': ''},\n",
       " {'name': 'Brett Hutchinson MD',\n",
       "  'work': 'the Lake Childrens Health',\n",
       "  'goals': [],\n",
       "  'job_title': ''},\n",
       " {'name': 'The Pediatric Symptom Checker',\n",
       "  'work': '',\n",
       "  'goals': [],\n",
       "  'job_title': ''},\n",
       " {'name': 'OurHealth', 'work': '', 'goals': [], 'job_title': ''}]"
      ]
     },
     "execution_count": 315,
     "metadata": {},
     "output_type": "execute_result"
    }
   ],
   "source": [
    "mencoba_list_userpersona = profilingEntities(filtered_sentences)\n",
    "\n",
    "mencoba_list_userpersona"
   ]
  },
  {
   "cell_type": "code",
   "execution_count": 316,
   "metadata": {},
   "outputs": [
    {
     "name": "stdout",
     "output_type": "stream",
     "text": [
      "(Childrens,)\n",
      "Organization:Childrens\n",
      "Work: N/A\n",
      "\n",
      "(Checker,)\n",
      "Organization:Checker\n",
      "Work: N/A\n",
      "\n",
      "(Checker,)\n",
      "Organization:Checker\n",
      "Work: N/A\n",
      "\n",
      "(Brett,)\n",
      "Organization:Brett\n",
      "Work: N/A\n",
      "\n",
      "(Childrens,)\n",
      "Organization:Childrens\n",
      "Work: N/A\n",
      "\n",
      "(ER,)\n",
      "Organization:ER\n",
      "Work: N/A\n",
      "\n",
      "(MyChart,)\n",
      "Organization:MyChart\n",
      "Work: N/A\n",
      "\n",
      "(OurHealth,)\n",
      "Organization:OurHealth\n",
      "Work: N/A\n",
      "\n"
     ]
    }
   ],
   "source": [
    "mencoba_mencari_entiti_dengan_lemmatized = profilingEntities(nlp(lemmatized_words))"
   ]
  },
  {
   "cell_type": "markdown",
   "metadata": {},
   "source": [
    "# Goals based approach"
   ]
  },
  {
   "cell_type": "markdown",
   "metadata": {},
   "source": [
    "## Finding only the goals"
   ]
  },
  {
   "cell_type": "code",
   "execution_count": 317,
   "metadata": {},
   "outputs": [
    {
     "name": "stdout",
     "output_type": "stream",
     "text": [
      "15578876784678163569 HelloWorld 22 25 offering more ways\n"
     ]
    }
   ],
   "source": [
    "\n",
    "matcher = Matcher(nlp.vocab)\n",
    "# Add match ID \"HelloWorld\" with no callback and one pattern\n",
    "pattern = [{'POS': 'VERB'},\n",
    "           {'POS': 'ADJ'},\n",
    "           {'POS': 'NOUN'}]\n",
    "matcher.add(\"HelloWorld\", [pattern])\n",
    "\n",
    "filtered_goals = []\n",
    "matches = matcher(doc)\n",
    "for match_id, start, end in matches:\n",
    "    string_id = nlp.vocab.strings[match_id]  # Get string representation\n",
    "    span = doc[start:end]  # The matched span\n",
    "    print(match_id, string_id, start, end, span.text)\n",
    "    filtered_goals.append(span.text)\n",
    "\n",
    "def findTheGoals(doc):\n",
    "    matcher = Matcher(nlp.vocab)\n",
    "    # Add match ID \"HelloWorld\" with no callback and one pattern\n",
    "    pattern = [{'POS': 'VERB'},\n",
    "            {'POS': 'ADJ'},\n",
    "            {'POS': 'NOUN'}]\n",
    "    matcher.add(\"HelloWorld\", [pattern])\n",
    "\n",
    "    filtered_goals = []\n",
    "    matches = matcher(doc)\n",
    "    for match_id, start, end in matches:\n",
    "        string_id = nlp.vocab.strings[match_id]  # Get string representation\n",
    "        span = doc[start:end]  # The matched span\n",
    "        print(match_id, string_id, start, end, span.text)\n",
    "        filtered_goals.append(span.text)\n",
    "\n",
    "    return filtered_goals"
   ]
  },
  {
   "cell_type": "code",
   "execution_count": 318,
   "metadata": {},
   "outputs": [
    {
     "name": "stdout",
     "output_type": "stream",
     "text": [
      "15578876784678163569 HelloWorld 22 25 offer more way\n"
     ]
    }
   ],
   "source": [
    "goals_of_lemmatized_words = findTheGoals(testing_doc_with_lemmatized)"
   ]
  },
  {
   "cell_type": "code",
   "execution_count": 319,
   "metadata": {},
   "outputs": [
    {
     "name": "stdout",
     "output_type": "stream",
     "text": [
      "1 Our Lady of the Lake Childrens Health has launched a new digital symptom checker for pediatric patients ages 0-17, offering more ways to access virtual, seamless guidance any time, day or night.\n"
     ]
    }
   ],
   "source": [
    "from spacy.tokens import Doc\n",
    "\n",
    "matcher = PhraseMatcher(nlp.vocab)\n",
    "docs_for_pattern_goals = [nlp.make_doc(text) for text in filtered_goals]\n",
    "\n",
    "matcher.add(\"MencariKalimatMengandungGoals\", docs_for_pattern_goals)\n",
    "\n",
    "filtered_sentences_containing_goals = []\n",
    "for sent in doc.sents:\n",
    "    for match_id, start, end in matcher(nlp(sent.text)):\n",
    "        if nlp.vocab.strings[match_id] in [\"MencariKalimatMengandungGoals\"]:\n",
    "            filtered_sentences_containing_goals.append(sent.text)\n",
    "\n",
    "filtered_sentences_containing_goals = np.unique(filtered_sentences_containing_goals)\n",
    "a = 1\n",
    "for i in filtered_sentences_containing_goals:\n",
    "    print(a, i)\n",
    "    a=a+1\n",
    "\n",
    "def findSentencesContainingGoals(doc, filtered_goals):\n",
    "    matcher = PhraseMatcher(nlp.vocab)\n",
    "    docs_for_pattern_goals = [nlp.make_doc(text) for text in filtered_goals]\n",
    "\n",
    "    matcher.add(\"MencariKalimatMengandungGoals\", docs_for_pattern_goals)\n",
    "\n",
    "    filtered_sentences_containing_goals = []\n",
    "    for sent in doc.sents:\n",
    "        for match_id, start, end in matcher(nlp(sent.text)):\n",
    "            if nlp.vocab.strings[match_id] in [\"MencariKalimatMengandungGoals\"]:\n",
    "                filtered_sentences_containing_goals.append(sent.text)\n",
    "\n",
    "    filtered_sentences_containing_goals = np.unique(filtered_sentences_containing_goals)\n",
    "    a = 1\n",
    "    for i in filtered_sentences_containing_goals:\n",
    "        print(a, i)\n",
    "        a=a+1\n",
    "\n",
    "    return filtered_sentences_containing_goals"
   ]
  },
  {
   "cell_type": "markdown",
   "metadata": {},
   "source": [
    "Finding entities in selected sentences that has goals in it"
   ]
  },
  {
   "cell_type": "code",
   "execution_count": 320,
   "metadata": {},
   "outputs": [
    {
     "name": "stdout",
     "output_type": "stream",
     "text": [
      "1 our Lady of the Lake Childrens Health have launch a new digital symptom checker for pediatric patient age 0 - 17 , offer more way to access virtual , seamless guidance any time , day or night .\n"
     ]
    }
   ],
   "source": [
    "sentences_of_goals_in_lemmatized = findSentencesContainingGoals(testing_doc_with_lemmatized, goals_of_lemmatized_words)"
   ]
  },
  {
   "cell_type": "code",
   "execution_count": 321,
   "metadata": {},
   "outputs": [
    {
     "name": "stdout",
     "output_type": "stream",
     "text": [
      "(the Lake Childrens Health, age 0 - 17, night)\n",
      "Organization:the Lake Childrens Health\n",
      "Work: N/A\n",
      "\n"
     ]
    },
    {
     "data": {
      "text/plain": [
       "[{'name': 'the Lake Childrens Health',\n",
       "  'work': '',\n",
       "  'goals': [],\n",
       "  'job_title': ''}]"
      ]
     },
     "execution_count": 321,
     "metadata": {},
     "output_type": "execute_result"
    }
   ],
   "source": [
    "profilingEntities(sentences_of_goals_in_lemmatized)"
   ]
  },
  {
   "cell_type": "code",
   "execution_count": 322,
   "metadata": {},
   "outputs": [
    {
     "name": "stdout",
     "output_type": "stream",
     "text": [
      "the Lake Childrens Health ORG\n",
      "0-17 DATE\n",
      "night TIME\n"
     ]
    }
   ],
   "source": [
    "for each in filtered_sentences_containing_goals:\n",
    "    new_doc = nlp(str(each))\n",
    "\n",
    "    for ent in new_doc.ents:\n",
    "        print(ent.text,ent.label_)"
   ]
  },
  {
   "cell_type": "markdown",
   "metadata": {},
   "source": [
    "Creating user persona"
   ]
  },
  {
   "cell_type": "code",
   "execution_count": 323,
   "metadata": {},
   "outputs": [
    {
     "name": "stdout",
     "output_type": "stream",
     "text": [
      "====== USER PERSONA  1 ============\n",
      "the Lake Childrens Health\n",
      "1 offering more ways\n",
      "===========================\n",
      "\n"
     ]
    }
   ],
   "source": [
    "matcher = Matcher(nlp.vocab)\n",
    "\n",
    "i = 1\n",
    "sentences_containing_no_entities = []\n",
    "\n",
    "for each in filtered_sentences_containing_goals:\n",
    "    print(\"====== USER PERSONA \", i, \"============\")\n",
    "    go = nlp(str(each))\n",
    "\n",
    "    token_types = [token.ent_type_ for token in go]\n",
    "\n",
    "    pattern = [{'POS': 'VERB'},\n",
    "           {'POS': 'ADJ'},\n",
    "           {'POS': 'NOUN'}]\n",
    "    matcher.add(\"EndResult\", [pattern])\n",
    "    \n",
    "    matches3 = matcher(go)\n",
    "    nomor_goals = 1\n",
    "\n",
    "    if('PERSON' in token_types) or ('ORG' in token_types):\n",
    "        for ent in go.ents:\n",
    "            if ent.label_ == \"PERSON\":\n",
    "                print('Name:' + ent.text)\n",
    "                break\n",
    "            if ent.label_ == \"ORG\":\n",
    "                print(ent.text)\n",
    "                break\n",
    "    else:\n",
    "        sentences_containing_no_entities.append(go.text)\n",
    "        print(\"User\")\n",
    "    \n",
    "    for match_id, start, end in matches3:\n",
    "        string_id = nlp.vocab.strings[match_id]  # Get string representation\n",
    "        span = go[start:end]  # The matched span\n",
    "        print(nomor_goals, span.text)\n",
    "        nomor_goals = nomor_goals+1\n",
    "    \n",
    "    i = i+1\n",
    "\n",
    "\n",
    "    print(\"===========================\")\n",
    "    print()\n"
   ]
  },
  {
   "cell_type": "code",
   "execution_count": 324,
   "metadata": {},
   "outputs": [
    {
     "data": {
      "text/plain": [
       "[]"
      ]
     },
     "execution_count": 324,
     "metadata": {},
     "output_type": "execute_result"
    }
   ],
   "source": [
    "sentences_containing_no_entities"
   ]
  },
  {
   "cell_type": "code",
   "execution_count": 325,
   "metadata": {},
   "outputs": [],
   "source": [
    "matcher = Matcher(nlp.vocab)\n",
    "\n",
    "def separateSentencesOnEntities(group_of_sentences):\n",
    "    i = 1\n",
    "    sentences_containing_entities = []\n",
    "    sentences_containing_no_entities = []\n",
    "\n",
    "    # mencari yang ada entitasnya\n",
    "    for each in group_of_sentences:\n",
    "        go = nlp(str(each))\n",
    "\n",
    "        token_types = [token.ent_type_ for token in go]\n",
    "\n",
    "        if('PERSON' in token_types) or ('ORG' in token_types):\n",
    "            sentences_containing_entities.append(go.text)\n",
    "        else:\n",
    "            sentences_containing_no_entities.append(go.text)\n",
    "\n",
    "# function untuk membuat user persona\n",
    "def createUserPersona(group_of_sentences, konten):\n",
    "    matcher = Matcher(nlp.vocab)\n",
    "    userPersonaCreated = []\n",
    "    i = 1\n",
    "    no_entities = []\n",
    "\n",
    "    for each in group_of_sentences:\n",
    "        \n",
    "        go = nlp(str(each))\n",
    "\n",
    "        token_types = [token.ent_type_ for token in go]\n",
    "        \n",
    "        pattern = [{'POS': 'VERB'},\n",
    "            {'POS': 'ADJ'},\n",
    "            {'POS': 'NOUN'}]\n",
    "        matcher.add(\"EndResult\", [pattern])\n",
    "        \n",
    "        matches3 = matcher(go)\n",
    "\n",
    "        nomor_goals = 1\n",
    "            \n",
    "        # memilah apakah dia memiliki entitas, jika ya, akan langsung dicetak, jika tidak maka akan dimasukkan dalam array\n",
    "        if('PERSON' in token_types) or ('ORG' in token_types):\n",
    "            print(\"====== USER PERSONA \", i, \"============\")\n",
    "\n",
    "            # mencari nama\n",
    "            for ent in go.ents:\n",
    "                if ent.label_ == \"PERSON\":\n",
    "                    nama = ent.text\n",
    "                    print('Name:' + ent.text)\n",
    "                    break\n",
    "                if ent.label_ == \"ORG\":\n",
    "                    nama = ent.text\n",
    "                    print('Name:' + ent.text)\n",
    "                    break     \n",
    "            \n",
    "            # mencari organisasi\n",
    "            if('PERSON' in token_types) and ('ORG' in token_types):\n",
    "                for ent in go.ents:\n",
    "                    if ent.label_== \"ORG\":\n",
    "                        kerja = ent.text\n",
    "                        print('Work:' + ent.text)                    \n",
    "            else:\n",
    "                kerja = \"\"\n",
    "                print('Work: N/A')\n",
    "\n",
    "            # mencari job title\n",
    "            job_matcher = PhraseMatcher(nlp.vocab)\n",
    "            jabatan = job_titles\n",
    "\n",
    "            patterns_job = [nlp.make_doc(text) for text in jabatan]\n",
    "            job_matcher.add(\"TerminologyList\", patterns_job)\n",
    "\n",
    "            nama_jabatan = \"\"\n",
    "            job_titles_found = job_matcher(go)\n",
    "            for match_id, start, end in job_titles_found:\n",
    "                nama_jabatan = go[start:end]\n",
    "                print('Jabatan:' + (str(go[start:end])))\n",
    "\n",
    "            goals_found = []\n",
    "            for match_id, start, end in matches3:\n",
    "                string_id = nlp.vocab.strings[match_id]  # Get string representation\n",
    "                span = go[start:end]  # The matched span\n",
    "                goals_found.append(span.text)\n",
    "                print(nomor_goals, span.text)\n",
    "                nomor_goals = nomor_goals+1   \n",
    "            print(\"===========================\")\n",
    "\n",
    "            ketemu = UserPersona(nama, kerja, str(nama_jabatan), goals_found)\n",
    "            userPersonaCreated.append(ketemu.__dict__)\n",
    "        else:\n",
    "            for match_id, start, end in matches3:\n",
    "                string_id = nlp.vocab.strings[match_id]  # Get string representation\n",
    "                span = go[start:end]  # The matched span\n",
    "                no_entities.append(span.text)\n",
    "            continue\n",
    "        \n",
    "        i = i+1\n",
    "\n",
    "        print()\n",
    "\n",
    "    print(\"====== USER PERSONA \", i, \"============\")\n",
    "    print('User')\n",
    "    nomor_no_entities = 1\n",
    "    for each in no_entities:\n",
    "        print(nomor_no_entities, each)\n",
    "        nomor_no_entities = nomor_no_entities+1\n",
    "    ketemu = UserPersona('User', 'N/A', 'N/A', no_entities)\n",
    "    userPersonaCreated.append(ketemu.__dict__)\n",
    "    \n",
    "    print(\"===========================\")\n",
    "\n",
    "    kalimat_dengan_entitas = findingSentencesWithEntities(konten)\n",
    "    entitas_ditemukan = profilingEntities(kalimat_dengan_entitas)\n",
    "    userPersonaCreated.extend(entitas_ditemukan)\n",
    "\n",
    "    json_hasil = json.dumps(userPersonaCreated)\n",
    "\n",
    "    return json_hasil\n",
    "    # return json.dumps(userPersonaCreated)"
   ]
  },
  {
   "cell_type": "code",
   "execution_count": null,
   "metadata": {},
   "outputs": [],
   "source": []
  },
  {
   "cell_type": "code",
   "execution_count": 326,
   "metadata": {},
   "outputs": [
    {
     "name": "stdout",
     "output_type": "stream",
     "text": [
      "====== USER PERSONA  1 ============\n",
      "Name:the Lake Childrens Health\n",
      "Work: N/A\n",
      "1 offering more ways\n",
      "===========================\n",
      "\n",
      "====== USER PERSONA  2 ============\n",
      "User\n",
      "===========================\n",
      "(ER,)\n",
      "Organization:ER\n",
      "Work: N/A\n",
      "\n",
      "(the Lake Childrens Health, 0-17, night)\n",
      "Organization:the Lake Childrens Health\n",
      "Work: N/A\n",
      "\n",
      "(The Pediatric Symptom Checker, Brett Hutchinson MD, the Lake Childrens Health)\n",
      "Organization:The Pediatric Symptom Checker\n",
      "Person:Brett Hutchinson MD\n",
      "Work:The Pediatric Symptom Checker\n",
      "Work:the Lake Childrens Health\n",
      "\n",
      "(The Pediatric Symptom Checker, first)\n",
      "Organization:The Pediatric Symptom Checker\n",
      "Work: N/A\n",
      "\n",
      "(The Pediatric Symptom Tracker, MyChart, OurHealth)\n",
      "Organization:The Pediatric Symptom Tracker\n",
      "Organization:MyChart\n",
      "Organization:OurHealth\n",
      "Work: N/A\n",
      "\n"
     ]
    }
   ],
   "source": [
    "contoh_hasil = createUserPersona(filtered_sentences_containing_goals, source[0][\"konten\"])"
   ]
  },
  {
   "cell_type": "code",
   "execution_count": 327,
   "metadata": {},
   "outputs": [
    {
     "data": {
      "text/plain": [
       "'[{\"name\": \"the Lake Childrens Health\", \"work\": \"\", \"goals\": [\"offering more ways\"], \"job_title\": \"\"}, {\"name\": \"User\", \"work\": \"N/A\", \"goals\": [], \"job_title\": \"N/A\"}, {\"name\": \"ER\", \"work\": \"\", \"goals\": [], \"job_title\": \"\"}, {\"name\": \"the Lake Childrens Health\", \"work\": \"\", \"goals\": [], \"job_title\": \"\"}, {\"name\": \"Brett Hutchinson MD\", \"work\": \"the Lake Childrens Health\", \"goals\": [], \"job_title\": \"\"}, {\"name\": \"The Pediatric Symptom Checker\", \"work\": \"\", \"goals\": [], \"job_title\": \"\"}, {\"name\": \"OurHealth\", \"work\": \"\", \"goals\": [], \"job_title\": \"\"}]'"
      ]
     },
     "execution_count": 327,
     "metadata": {},
     "output_type": "execute_result"
    }
   ],
   "source": [
    "contoh_hasil"
   ]
  },
  {
   "cell_type": "code",
   "execution_count": 340,
   "metadata": {},
   "outputs": [
    {
     "name": "stdout",
     "output_type": "stream",
     "text": [
      "{'name': 'Brett Hutchinson MD', 'work': 'the Lake Childrens Health', 'goals': [], 'job_title': ''}\n",
      "{'name': 'ER', 'work': '', 'goals': [], 'job_title': ''}\n",
      "{'name': 'OurHealth', 'work': '', 'goals': [], 'job_title': ''}\n",
      "{'name': 'The Pediatric Symptom Checker', 'work': '', 'goals': [], 'job_title': ''}\n",
      "{'name': 'User', 'work': 'N/A', 'goals': [], 'job_title': 'N/A'}\n",
      "{'name': 'the Lake Childrens Health', 'work': '', 'goals': ['offering more ways'], 'job_title': ''}\n"
     ]
    },
    {
     "data": {
      "text/plain": [
       "[{'name': 'Brett Hutchinson MD',\n",
       "  'work': 'the Lake Childrens Health',\n",
       "  'goals': [],\n",
       "  'job_title': ''},\n",
       " {'name': 'ER', 'work': '', 'goals': [], 'job_title': ''},\n",
       " {'name': 'OurHealth', 'work': '', 'goals': [], 'job_title': ''},\n",
       " {'name': 'The Pediatric Symptom Checker',\n",
       "  'work': '',\n",
       "  'goals': [],\n",
       "  'job_title': ''},\n",
       " {'name': 'User', 'work': 'N/A', 'goals': [], 'job_title': 'N/A'},\n",
       " {'name': 'the Lake Childrens Health',\n",
       "  'work': '',\n",
       "  'goals': ['offering more ways'],\n",
       "  'job_title': ''}]"
      ]
     },
     "execution_count": 340,
     "metadata": {},
     "output_type": "execute_result"
    }
   ],
   "source": [
    "type(contoh_hasil)\n",
    "\n",
    "send_to_render = {'User Persona' : contoh_hasil}\n",
    "\n",
    "baca_json = json.loads(contoh_hasil)\n",
    "\n",
    "from operator import itemgetter\n",
    "baca_json = sorted(baca_json, key=itemgetter('name', 'goals')) \n",
    "\n",
    "unique_things = []\n",
    "for i in range(len(baca_json)):\n",
    "    if(i == len(baca_json)-1):\n",
    "        print(baca_json[i])\n",
    "        unique_things.append(baca_json[i])\n",
    "    elif (baca_json[i]['name'] != baca_json[i+1]['name']):\n",
    "            print(baca_json[i])\n",
    "            unique_things.append(baca_json[i])\n",
    "\n",
    "unique_things = sorted(unique_things, key=itemgetter('goals'))\n",
    "\n",
    "unique_things\n",
    "        \n",
    "\n",
    "\n"
   ]
  },
  {
   "cell_type": "code",
   "execution_count": 341,
   "metadata": {},
   "outputs": [
    {
     "data": {
      "text/plain": [
       "[{'name': 'Brett Hutchinson MD',\n",
       "  'work': 'the Lake Childrens Health',\n",
       "  'goals': [],\n",
       "  'job_title': ''},\n",
       " {'name': 'ER', 'work': '', 'goals': [], 'job_title': ''},\n",
       " {'name': 'OurHealth', 'work': '', 'goals': [], 'job_title': ''},\n",
       " {'name': 'The Pediatric Symptom Checker',\n",
       "  'work': '',\n",
       "  'goals': [],\n",
       "  'job_title': ''},\n",
       " {'name': 'User', 'work': 'N/A', 'goals': [], 'job_title': 'N/A'},\n",
       " {'name': 'the Lake Childrens Health',\n",
       "  'work': '',\n",
       "  'goals': [],\n",
       "  'job_title': ''},\n",
       " {'name': 'the Lake Childrens Health',\n",
       "  'work': '',\n",
       "  'goals': ['offering more ways'],\n",
       "  'job_title': ''}]"
      ]
     },
     "execution_count": 341,
     "metadata": {},
     "output_type": "execute_result"
    }
   ],
   "source": [
    "baca_json"
   ]
  },
  {
   "cell_type": "code",
   "execution_count": 330,
   "metadata": {},
   "outputs": [],
   "source": [
    "# baca_json = [{'name': 'Jerold Greer', 'work': 'Daymark Recovery Services', 'goals': ['implemented patient portal', 'based psychiatric services'], 'job_title': 'CIO'}, {'name': 'Brient', 'work': '', 'goals': ['employs white hat'], 'job_title': ''}, {'name': 'the Amazon Echo', 'work': '', 'goals': ['sees possible synergies', 'access medical information'], 'job_title': ''}, {'name': 'Greer', 'work': '', 'goals': ['provides psychiatric care'], 'job_title': ''}, {'name': 'NextGen', 'work': '', 'goals': ['offer more languages'], 'job_title': ''}, {'name': 'User', 'work': 'N/A', 'goals': ['having multiple points', 'uses patient portals', 'expanding portal access', 'expect high enrollment', 'prevent duplicate appointments', 'expects patient portals', 'recommends automatic enrollment', 'provides more convenience'], 'job_title': 'N/A'}, {'name': 'Paul Brient', 'work': 'AthenaHealth', 'goals': [], 'job_title': ''}, {'name': 'Jerold Greer', 'work': 'Daymark Recovery Services', 'goals': [], 'job_title': 'CIO'}, {'name': 'Greer', 'work': '', 'goals': [], 'job_title': ''}, {'name': 'Healthcare', 'work': '', 'goals': [], 'job_title': ''}, {'name': 'Jerold Greer CIO', 'work': '', 'goals': [], 'job_title': 'CIO'}, {'name': 'Cheryl Lejbolle', 'work': 'NextGen Healthcare', 'goals': [], 'job_title': ''}, {'name': 'API', 'work': '', 'goals': [], 'job_title': ''}, {'name': 'Brient', 'work': '', 'goals': [], 'job_title': ''}]"
   ]
  },
  {
   "cell_type": "code",
   "execution_count": 342,
   "metadata": {},
   "outputs": [
    {
     "data": {
      "text/plain": [
       "[{'name': 'Brett Hutchinson MD',\n",
       "  'work': 'the Lake Childrens Health',\n",
       "  'goals': [],\n",
       "  'job_title': ''},\n",
       " {'name': 'ER', 'work': '', 'goals': [], 'job_title': ''},\n",
       " {'name': 'OurHealth', 'work': '', 'goals': [], 'job_title': ''},\n",
       " {'name': 'The Pediatric Symptom Checker',\n",
       "  'work': '',\n",
       "  'goals': [],\n",
       "  'job_title': ''},\n",
       " {'name': 'User', 'work': 'N/A', 'goals': [], 'job_title': 'N/A'},\n",
       " {'name': 'the Lake Childrens Health',\n",
       "  'work': '',\n",
       "  'goals': [],\n",
       "  'job_title': ''},\n",
       " {'name': 'the Lake Childrens Health',\n",
       "  'work': '',\n",
       "  'goals': ['offering more ways'],\n",
       "  'job_title': ''}]"
      ]
     },
     "execution_count": 342,
     "metadata": {},
     "output_type": "execute_result"
    }
   ],
   "source": [
    "baca_json"
   ]
  },
  {
   "cell_type": "code",
   "execution_count": 344,
   "metadata": {},
   "outputs": [
    {
     "name": "stdout",
     "output_type": "stream",
     "text": [
      "Brett Hutchinson MD None the Lake Childrens Health []\n",
      "ER None None []\n",
      "OurHealth None None []\n",
      "The Pediatric Symptom Checker None None []\n",
      "User N/A N/A []\n",
      "the Lake Childrens Health None None ['offering more ways']\n"
     ]
    },
    {
     "data": {
      "text/plain": [
       "[{'name': 'Brett Hutchinson MD',\n",
       "  'work': 'the Lake Childrens Health',\n",
       "  'goals': [],\n",
       "  'job_title': None},\n",
       " {'name': 'ER', 'work': None, 'goals': [], 'job_title': None},\n",
       " {'name': 'OurHealth', 'work': None, 'goals': [], 'job_title': None},\n",
       " {'name': 'The Pediatric Symptom Checker',\n",
       "  'work': None,\n",
       "  'goals': [],\n",
       "  'job_title': None},\n",
       " {'name': 'User', 'work': 'N/A', 'goals': [], 'job_title': 'N/A'},\n",
       " {'name': 'the Lake Childrens Health',\n",
       "  'work': None,\n",
       "  'goals': ['offering more ways'],\n",
       "  'job_title': None}]"
      ]
     },
     "execution_count": 344,
     "metadata": {},
     "output_type": "execute_result"
    }
   ],
   "source": [
    "name_sementara = []\n",
    "for each in baca_json:\n",
    "    name_sementara.append(each['name'])\n",
    "\n",
    "name_sementara = np.unique(name_sementara)\n",
    "\n",
    "from operator import itemgetter\n",
    "baca_json = sorted(baca_json, key=itemgetter('name', 'goals'), reverse=True) \n",
    "\n",
    "temp = []\n",
    "temp_nama = None\n",
    "temp_kerja = None\n",
    "temp_organisasi = None\n",
    "\n",
    "Sorted_Filtered_Persona = []\n",
    "\n",
    "for nama in name_sementara:\n",
    "    for each in baca_json:\n",
    "        if each['name'] == nama:\n",
    "            if each['goals']:\n",
    "                temp.extend(each['goals'])\n",
    "\n",
    "            if each['job_title']:\n",
    "                temp_kerja = each['job_title']\n",
    "\n",
    "            if each['work']:\n",
    "                temp_organisasi = each['work']\n",
    "\n",
    "            temp_nama = nama\n",
    "            \n",
    "        else:\n",
    "            if len(temp) > 1:\n",
    "                print(\"hi\")\n",
    "\n",
    "            if temp_nama:\n",
    "                Sorted_Filtered_Persona.append(UserPersona(temp_nama, temp_organisasi, temp_kerja, temp).__dict__)\n",
    "                print(temp_nama, temp_kerja, temp_organisasi, temp)\n",
    "                \n",
    "            temp = []\n",
    "            temp_nama = None \n",
    "            temp_kerja = None\n",
    "            temp_organisasi = None\n",
    "\n",
    "\n",
    "Sorted_Filtered_Persona\n"
   ]
  },
  {
   "cell_type": "code",
   "execution_count": 333,
   "metadata": {},
   "outputs": [
    {
     "data": {
      "text/plain": [
       "{'name': 'Halim', 'work': 'FST', 'goals': [], 'job_title': ['running']}"
      ]
     },
     "execution_count": 333,
     "metadata": {},
     "output_type": "execute_result"
    }
   ],
   "source": [
    "\n",
    "testing_dict = UserPersona('Halim', 'FST', ['running'])\n",
    "testing_dict.__dict__"
   ]
  },
  {
   "cell_type": "code",
   "execution_count": 334,
   "metadata": {},
   "outputs": [
    {
     "data": {
      "text/plain": [
       "str"
      ]
     },
     "execution_count": 334,
     "metadata": {},
     "output_type": "execute_result"
    }
   ],
   "source": [
    "type(contoh_hasil)"
   ]
  },
  {
   "cell_type": "code",
   "execution_count": 335,
   "metadata": {},
   "outputs": [
    {
     "data": {
      "text/plain": [
       "'Lady Lake Childrens Health launched new digital symptom checker pediatric patients ages offering more ways access virtual seamless guidance time day night Pediatric Symptom Checker first online pediatric symptom checker tool created region provides parents peace mind palm hands answering few short questions new online tool provide advice next steps seeking treatment care sick child Pediatric Symptom Checker designed help parents decide best course care child time says Brett Hutchinson MD pediatrician Lady Lake Childrens Health goal relieve stress parenting making care accessible easy navigate symptom checker designed help parents guardians decide appropriate care setting based childs symptoms special circumstances tool free available answering few quick confidential questions parents able use new resource determine go ER contact pediatrician make appointment provider seek type care visit access digital symptom checker Pediatric Symptom Tracker latest long line digital patient tools including video visits online scheduling MyChart OurHealth app'"
      ]
     },
     "execution_count": 335,
     "metadata": {},
     "output_type": "execute_result"
    }
   ],
   "source": [
    "what_aspect = []\n",
    "for token in doc:\n",
    "    if token.pos_ == \"ADJ\" or token.pos_ == \"NOUN\" or token.pos_ == \"VERB\" or token.pos_ ==\"PROPN\":\n",
    "        what_aspect.append(token.text)\n",
    "\n",
    "what_aspect = (\" \".join(what_aspect))\n",
    "what_aspect"
   ]
  },
  {
   "cell_type": "markdown",
   "metadata": {},
   "source": [
    "# mencari semua entitas"
   ]
  },
  {
   "cell_type": "markdown",
   "metadata": {},
   "source": [
    "1. cari entitas\n",
    "2. masukkan dalam lsit\n",
    "3. cari nama yang unique saja\n",
    "4. dari daftar nama itu, temukan semua kalimat terkait yang punya nama itu\n",
    "5. dari kalimat terkait, ambil informasi terkait dengan organisasi, dan sebagainya\n",
    "6. masukkan dalama json\n",
    "\n"
   ]
  },
  {
   "cell_type": "code",
   "execution_count": 336,
   "metadata": {},
   "outputs": [],
   "source": [
    "def findingSentencesRelatedToEntities(doc_awal, who_aspect_dari_doc):\n",
    "    doc = doc_awal\n",
    "    matcher = PhraseMatcher(nlp.vocab)\n",
    "    terms = str(who_aspect_dari_doc)\n",
    "\n",
    "    # Only run nlp.make_doc to speed things up\n",
    "    patterns = [nlp.make_doc(text) for text in terms]\n",
    "    matcher.add(\"TerminologyList\", patterns)\n",
    "\n",
    "    filtered_sentences = []\n",
    "    for sent in doc.sents:\n",
    "        for match_id, start, end in matcher(nlp(sent.text)):\n",
    "            if nlp.vocab.strings[match_id] in [\"TerminologyList\"]:\n",
    "                filtered_sentences.append(sent.text)\n",
    "\n",
    "    filtered_sentences = np.unique(filtered_sentences)\n",
    "\n",
    "    return filtered_sentences"
   ]
  },
  {
   "cell_type": "code",
   "execution_count": 337,
   "metadata": {},
   "outputs": [],
   "source": [
    "def findingEntities(doc):\n",
    "    list_entities = []\n",
    "    who_aspect_dari_doc = []\n",
    "\n",
    "    for ent in doc.ents:\n",
    "        if ent.label_ == \"PERSON\":\n",
    "            nama = ent.text\n",
    "            who_aspect_dari_doc.append(nama)\n",
    "\n",
    "    who_aspect_dari_doc = np.unique(who_aspect_dari_doc)\n",
    "\n",
    "    filtered_sentences = findingSentencesRelatedToEntities(doc, who_aspect_dari_doc)\n",
    "\n",
    "    entities = profilingEntities(filtered_sentences)\n",
    "\n",
    "    return entities\n",
    "\n",
    "    \n",
    "\n",
    "    \n",
    "        \n",
    "        \n",
    "        \n",
    "            \n",
    "        "
   ]
  },
  {
   "cell_type": "code",
   "execution_count": 338,
   "metadata": {},
   "outputs": [
    {
     "data": {
      "text/plain": [
       "list"
      ]
     },
     "execution_count": 338,
     "metadata": {},
     "output_type": "execute_result"
    }
   ],
   "source": [
    "type(findingEntities(doc))"
   ]
  },
  {
   "cell_type": "markdown",
   "metadata": {},
   "source": [
    "# FUNCTION CREATE USER PERSONA"
   ]
  },
  {
   "cell_type": "code",
   "execution_count": 339,
   "metadata": {},
   "outputs": [],
   "source": [
    "# function untuk membuat user persona\n",
    "def createUserPersona(group_of_sentences, sentences_containing_entities):\n",
    "    matcher = Matcher(nlp.vocab)\n",
    "    userPersonaCreated = []\n",
    "    i = 1\n",
    "    no_entities = []\n",
    "\n",
    "    # goals approach\n",
    "    for each in group_of_sentences:\n",
    "        \n",
    "        go = nlp(str(each))\n",
    "\n",
    "        token_types = [token.ent_type_ for token in go]\n",
    "        \n",
    "        pattern = [{'POS': 'VERB'},\n",
    "            {'POS': 'ADJ'},\n",
    "            {'POS': 'NOUN'}]\n",
    "        matcher.add(\"EndResult\", [pattern])\n",
    "        \n",
    "        matches3 = matcher(go)\n",
    "\n",
    "        nomor_goals = 1\n",
    "            \n",
    "        # memilah apakah dia memiliki entitas, jika ya, akan langsung dicetak, jika tidak maka akan dimasukkan dalam array\n",
    "        if('PERSON' in token_types) or ('ORG' in token_types):\n",
    "            print(\"====== USER PERSONA \", i, \"============\")\n",
    "\n",
    "            # mencari nama\n",
    "            for ent in go.ents:\n",
    "                if ent.label_ == \"PERSON\":\n",
    "                    nama = ent.text\n",
    "                    print('Name:' + ent.text)\n",
    "                    break\n",
    "                if ent.label_ == \"ORG\":\n",
    "                    nama = ent.text\n",
    "                    print('Name:' + ent.text)\n",
    "                    break     \n",
    "            \n",
    "            # mencari organisasi\n",
    "            if('PERSON' in token_types) and ('ORG' in token_types):\n",
    "                for ent in go.ents:\n",
    "                    if ent.label_== \"ORG\":\n",
    "                        kerja = ent.text\n",
    "                        print('Work:' + ent.text)                    \n",
    "            else:\n",
    "                kerja = \"\"\n",
    "                print('Work: N/A')\n",
    "            print()\n",
    "\n",
    "            goals_found = []\n",
    "            for match_id, start, end in matches3:\n",
    "                string_id = nlp.vocab.strings[match_id]  # Get string representation\n",
    "                span = go[start:end]  # The matched span\n",
    "                goals_found.append(span.text)\n",
    "                print(nomor_goals, span.text)\n",
    "                nomor_goals = nomor_goals+1   \n",
    "            print(\"===========================\")\n",
    "\n",
    "            ketemu = UserPersona(nama, kerja, goals_found)\n",
    "            userPersonaCreated.append(ketemu.__dict__)\n",
    "        else:\n",
    "            for match_id, start, end in matches3:\n",
    "                string_id = nlp.vocab.strings[match_id]  # Get string representation\n",
    "                span = go[start:end]  # The matched span\n",
    "                no_entities.append(span.text)\n",
    "            continue\n",
    "        \n",
    "        i = i+1\n",
    "\n",
    "        print()\n",
    "\n",
    "    print(\"====== USER PERSONA \", i, \"============\")\n",
    "    print('User')\n",
    "    nomor_no_entities = 1\n",
    "    for each in no_entities:\n",
    "        print(nomor_no_entities, each)\n",
    "        nomor_no_entities = nomor_no_entities+1\n",
    "    ketemu = UserPersona('User', 'N/A', no_entities)\n",
    "    userPersonaCreated.append(ketemu.__dict__)\n",
    "    \n",
    "    print(\"===========================\")\n",
    "   \n",
    "    json_hasil = json.dumps(userPersonaCreated)\n",
    "\n",
    "\n",
    "    return json.dumps(userPersonaCreated)"
   ]
  }
 ],
 "metadata": {
  "interpreter": {
   "hash": "82ed002fa2d4956f5c6aec99bcefe0f73a9f79882f3c9e2319b14958a5896ac5"
  },
  "kernelspec": {
   "display_name": "Python 3.9.5 64-bit",
   "language": "python",
   "name": "python3"
  },
  "language_info": {
   "codemirror_mode": {
    "name": "ipython",
    "version": 3
   },
   "file_extension": ".py",
   "mimetype": "text/x-python",
   "name": "python",
   "nbconvert_exporter": "python",
   "pygments_lexer": "ipython3",
   "version": "3.9.5"
  },
  "orig_nbformat": 4
 },
 "nbformat": 4,
 "nbformat_minor": 2
}
